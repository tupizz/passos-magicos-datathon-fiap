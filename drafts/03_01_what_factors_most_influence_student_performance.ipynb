{
 "cells": [
  {
   "cell_type": "code",
   "execution_count": 15,
   "id": "initial_id",
   "metadata": {
    "collapsed": true,
    "ExecuteTime": {
     "end_time": "2024-08-04T21:05:29.626962Z",
     "start_time": "2024-08-04T21:05:29.516390Z"
    }
   },
   "outputs": [],
   "source": [
    "import pandas as pd\n",
    "\n",
    "# Load the datasets\n",
    "meta_fase_nota_aluno = pd.read_csv('csv_output/Tabelas/TbMeta/TbMetaFaseNotaAluno.csv')\n",
    "meta_fase_nota = pd.read_csv('csv_output/Tabelas/TbMeta/TbMetaFaseNota.csv')\n",
    "meta = pd.read_csv('csv_output/Tabelas/TbMeta/TbMeta.csv')\n",
    "diario_frequencia = pd.read_csv('csv_output/Tabelas/TbDiario/Merge/TbDiarioFrequencia.csv')\n",
    "diario_aula = pd.read_csv('csv_output/Tabelas/TbDiario/Originais anonimizados/TbDiarioAula.csv')"
   ]
  },
  {
   "cell_type": "code",
   "outputs": [],
   "source": [
    "import pandas as pd\n",
    "import seaborn as sns\n",
    "import matplotlib.pyplot as plt\n",
    "from sklearn.model_selection import train_test_split\n",
    "from sklearn.ensemble import RandomForestClassifier\n",
    "from sklearn.metrics import classification_report, confusion_matrix"
   ],
   "metadata": {
    "collapsed": false,
    "ExecuteTime": {
     "end_time": "2024-08-04T21:07:29.924826Z",
     "start_time": "2024-08-04T21:07:29.922777Z"
    }
   },
   "id": "94eb827af8af8226",
   "execution_count": 17
  },
  {
   "cell_type": "code",
   "outputs": [],
   "source": [
    "# Load the datasets\n",
    "situacao_df = pd.read_csv('csv_output/Tabelas/TbSituacaoAlunoDisciplina/Originais anonimizados/TbSituacaoAlunoDisciplina.csv')\n",
    "aluno_df = pd.read_csv('csv_output/Tabelas/TbAluno/Originais anonimizados/TbAluno.csv')"
   ],
   "metadata": {
    "collapsed": false,
    "ExecuteTime": {
     "end_time": "2024-08-04T21:17:23.947087Z",
     "start_time": "2024-08-04T21:17:23.920132Z"
    }
   },
   "id": "af6dda9d6859f4d8",
   "execution_count": 51
  },
  {
   "cell_type": "code",
   "outputs": [
    {
     "name": "stdout",
     "output_type": "stream",
     "text": [
      "<class 'pandas.core.frame.DataFrame'>\n",
      "RangeIndex: 21133 entries, 0 to 21132\n",
      "Data columns (total 76 columns):\n",
      " #   Column                                  Non-Null Count  Dtype  \n",
      "---  ------                                  --------------  -----  \n",
      " 0   IdDisciplina                            21133 non-null  int64  \n",
      " 1   IdTurma                                 21133 non-null  int64  \n",
      " 2   IdAluno                                 21133 non-null  int64  \n",
      " 3   IdFaseNotaAtual                         21133 non-null  int64  \n",
      " 4   SituacaoAtual                           21133 non-null  object \n",
      " 5   StDisciplinaDispensada                  21133 non-null  object \n",
      " 6   IdAlunoCurso                            0 non-null      float64\n",
      " 7   DataMatricula                           0 non-null      float64\n",
      " 8   IdUsuarioMatricula                      17954 non-null  float64\n",
      " 9   DataTrancamento                         0 non-null      float64\n",
      " 10  IdUsuarioTrancamento                    0 non-null      float64\n",
      " 11  IdMotivoTrancamento                     0 non-null      float64\n",
      " 12  ComentarioTrancamento                   0 non-null      float64\n",
      " 13  IdSituacaoAlunoDisciplina               21133 non-null  int64  \n",
      " 14  NotaFinal                               0 non-null      float64\n",
      " 15  Faltas                                  0 non-null      float64\n",
      " 16  ProblemaAutorizadoMatricula             0 non-null      float64\n",
      " 17  IdUsuarioAutorizacaoMatricula           0 non-null      float64\n",
      " 18  JustificativaAutorizacaoMatricula       0 non-null      float64\n",
      " 19  StGoogleEdu_Sincronizado                21133 non-null  bool   \n",
      " 20  GoogleForEducation_LogProcessamento     0 non-null      float64\n",
      " 21  NomeAluno                               21133 non-null  object \n",
      " 22  NomeAbreviado                           0 non-null      float64\n",
      " 23  IdUnidade                               21123 non-null  float64\n",
      " 24  Sexo                                    21123 non-null  object \n",
      " 25  EstadoCivil                             21123 non-null  float64\n",
      " 26  DataNascimento                          21133 non-null  object \n",
      " 27  IdPai                                   4754 non-null   float64\n",
      " 28  IdMae                                   15737 non-null  object \n",
      " 29  IdResponsavel                           21123 non-null  float64\n",
      " 30  IdTipoResponsavel                       21133 non-null  int64  \n",
      " 31  Naturalidade                            10 non-null     object \n",
      " 32  Nacionalidade                           16 non-null     object \n",
      " 33  TipoSangue                              0 non-null      float64\n",
      " 34  PlanoSaude                              0 non-null      float64\n",
      " 35  Alergia                                 0 non-null      float64\n",
      " 36  Medicamento                             0 non-null      float64\n",
      " 37  IdEstabelecimentoEnsinoAnterior         0 non-null      float64\n",
      " 38  IdReligiao                              0 non-null      float64\n",
      " 39  AnoConclusao                            0 non-null      float64\n",
      " 40  CorRaca                                 21123 non-null  object \n",
      " 41  StDeficienciaCegueira                   21123 non-null  object \n",
      " 42  StDeficienciaBaixaVisao                 21123 non-null  object \n",
      " 43  StDeficienciaSurdez                     21133 non-null  bool   \n",
      " 44  StDeficienciaAuditiva                   21133 non-null  bool   \n",
      " 45  StDeficienciaFisica                     21133 non-null  bool   \n",
      " 46  StDeficienciaSurdoCegueira              21133 non-null  bool   \n",
      " 47  StDeficienciaMultipla                   21133 non-null  bool   \n",
      " 48  StDeficienciaMental                     21133 non-null  bool   \n",
      " 49  _IdResponsavel_CadastroVinculado        10 non-null     object \n",
      " 50  StFalecido                              21123 non-null  object \n",
      " 51  EnsinoMedio_IdEstabelecimentoEnsino     0 non-null      float64\n",
      " 52  EnsinoMedio_AnoConclusao                10 non-null     object \n",
      " 53  StDeficienciaAutismoInfantil            21123 non-null  object \n",
      " 54  StDeficienciaSindromeAsperger           21123 non-null  object \n",
      " 55  StDeficienciaSindromeRett               21133 non-null  bool   \n",
      " 56  StDeficienciaTrastornoDesintegrativo    21133 non-null  bool   \n",
      " 57  StDeficienciaAltasHabilidades           21133 non-null  bool   \n",
      " 58  NomeCivil                               0 non-null      float64\n",
      " 59  StAppComunicacao_Sincronizado           21123 non-null  object \n",
      " 60  IdTipoResponsavelPai                    3947 non-null   object \n",
      " 61  IdTipoResponsavelMae                    8187 non-null   float64\n",
      " 62  StRecursoAuxilioLedor                   21123 non-null  object \n",
      " 63  StRecursoAuxilioTranscricao             21123 non-null  object \n",
      " 64  StRecursoGuiaInterprete                 21133 non-null  bool   \n",
      " 65  StRecursoTradutorInterpreteDeLibras     21133 non-null  bool   \n",
      " 66  StRecursoLeituraLabial                  21133 non-null  bool   \n",
      " 67  StRecursoMaterialDidaticoProvaBraille   21133 non-null  bool   \n",
      " 68  StRecursoProvaAmpliada                  21133 non-null  bool   \n",
      " 69  StRecursoProvaSuperampliada             21133 non-null  bool   \n",
      " 70  StRecursoCdComAudio                     21133 non-null  bool   \n",
      " 71  StRecursoLinguaPortuguesaSegundaLingua  21133 non-null  bool   \n",
      " 72  StRecursoProvaEmVideo                   21133 non-null  bool   \n",
      " 73  StPermiteUsoImagem                      21133 non-null  bool   \n",
      " 74  StEstrangeiro                           21133 non-null  bool   \n",
      " 75  Unnamed: 55                             10 non-null     object \n",
      "dtypes: bool(21), float64(28), int64(6), object(21)\n",
      "memory usage: 9.3+ MB\n"
     ]
    }
   ],
   "source": [
    "# Merge datasets on a common student ID\n",
    "merged_df = pd.merge(situacao_df, aluno_df, on='IdAluno', how='inner')\n",
    "merged_df.info()"
   ],
   "metadata": {
    "collapsed": false,
    "ExecuteTime": {
     "end_time": "2024-08-04T21:17:26.461375Z",
     "start_time": "2024-08-04T21:17:26.437881Z"
    }
   },
   "id": "2cfad8c05ec932d1",
   "execution_count": 52
  },
  {
   "cell_type": "code",
   "outputs": [
    {
     "name": "stdout",
     "output_type": "stream",
     "text": [
      "<class 'pandas.core.frame.DataFrame'>\n",
      "RangeIndex: 21133 entries, 0 to 21132\n",
      "Data columns (total 56 columns):\n",
      " #   Column                                  Non-Null Count  Dtype  \n",
      "---  ------                                  --------------  -----  \n",
      " 0   IdDisciplina                            21133 non-null  int64  \n",
      " 1   IdTurma                                 21133 non-null  int64  \n",
      " 2   IdAluno                                 21133 non-null  int64  \n",
      " 3   IdFaseNotaAtual                         21133 non-null  int64  \n",
      " 4   SituacaoAtual                           21133 non-null  object \n",
      " 5   StDisciplinaDispensada                  21133 non-null  object \n",
      " 6   IdUsuarioMatricula                      17954 non-null  float64\n",
      " 7   IdUsuarioTrancamento                    0 non-null      float64\n",
      " 8   ComentarioTrancamento                   0 non-null      float64\n",
      " 9   IdSituacaoAlunoDisciplina               21133 non-null  int64  \n",
      " 10  ProblemaAutorizadoMatricula             0 non-null      float64\n",
      " 11  IdUsuarioAutorizacaoMatricula           0 non-null      float64\n",
      " 12  JustificativaAutorizacaoMatricula       0 non-null      float64\n",
      " 13  StGoogleEdu_Sincronizado                21133 non-null  bool   \n",
      " 14  GoogleForEducation_LogProcessamento     0 non-null      float64\n",
      " 15  NomeAluno                               21133 non-null  object \n",
      " 16  IdUnidade                               21123 non-null  float64\n",
      " 17  Sexo                                    21123 non-null  object \n",
      " 18  EstadoCivil                             21123 non-null  float64\n",
      " 19  DataNascimento                          21133 non-null  object \n",
      " 20  IdPai                                   4754 non-null   float64\n",
      " 21  IdMae                                   15737 non-null  object \n",
      " 22  IdResponsavel                           21123 non-null  float64\n",
      " 23  IdTipoResponsavel                       21133 non-null  int64  \n",
      " 24  CorRaca                                 21123 non-null  object \n",
      " 25  StDeficienciaCegueira                   21123 non-null  object \n",
      " 26  StDeficienciaBaixaVisao                 21123 non-null  object \n",
      " 27  StDeficienciaSurdez                     21133 non-null  bool   \n",
      " 28  StDeficienciaAuditiva                   21133 non-null  bool   \n",
      " 29  StDeficienciaFisica                     21133 non-null  bool   \n",
      " 30  StDeficienciaSurdoCegueira              21133 non-null  bool   \n",
      " 31  StDeficienciaMultipla                   21133 non-null  bool   \n",
      " 32  StDeficienciaMental                     21133 non-null  bool   \n",
      " 33  _IdResponsavel_CadastroVinculado        10 non-null     object \n",
      " 34  StFalecido                              21123 non-null  object \n",
      " 35  StDeficienciaAutismoInfantil            21123 non-null  object \n",
      " 36  StDeficienciaSindromeAsperger           21123 non-null  object \n",
      " 37  StDeficienciaSindromeRett               21133 non-null  bool   \n",
      " 38  StDeficienciaTrastornoDesintegrativo    21133 non-null  bool   \n",
      " 39  StDeficienciaAltasHabilidades           21133 non-null  bool   \n",
      " 40  StAppComunicacao_Sincronizado           21123 non-null  object \n",
      " 41  IdTipoResponsavelPai                    3947 non-null   object \n",
      " 42  IdTipoResponsavelMae                    8187 non-null   float64\n",
      " 43  StRecursoAuxilioLedor                   21123 non-null  object \n",
      " 44  StRecursoAuxilioTranscricao             21123 non-null  object \n",
      " 45  StRecursoGuiaInterprete                 21133 non-null  bool   \n",
      " 46  StRecursoTradutorInterpreteDeLibras     21133 non-null  bool   \n",
      " 47  StRecursoLeituraLabial                  21133 non-null  bool   \n",
      " 48  StRecursoMaterialDidaticoProvaBraille   21133 non-null  bool   \n",
      " 49  StRecursoProvaAmpliada                  21133 non-null  bool   \n",
      " 50  StRecursoProvaSuperampliada             21133 non-null  bool   \n",
      " 51  StRecursoCdComAudio                     21133 non-null  bool   \n",
      " 52  StRecursoLinguaPortuguesaSegundaLingua  21133 non-null  bool   \n",
      " 53  StRecursoProvaEmVideo                   21133 non-null  bool   \n",
      " 54  StPermiteUsoImagem                      21133 non-null  bool   \n",
      " 55  StEstrangeiro                           21133 non-null  bool   \n",
      "dtypes: bool(21), float64(12), int64(6), object(17)\n",
      "memory usage: 6.1+ MB\n"
     ]
    }
   ],
   "source": [
    "# Drop columns with no useful data\n",
    "cols_to_drop = ['IdAlunoCurso', 'DataMatricula', 'DataTrancamento', 'IdMotivoTrancamento', 'NotaFinal', \n",
    "                'Faltas', 'NomeAbreviado', 'Naturalidade', 'Nacionalidade', 'TipoSangue', 'PlanoSaude', \n",
    "                'Alergia', 'Medicamento', 'IdEstabelecimentoEnsinoAnterior', 'IdReligiao', 'AnoConclusao', \n",
    "                'EnsinoMedio_IdEstabelecimentoEnsino', 'EnsinoMedio_AnoConclusao', 'NomeCivil', 'Unnamed: 55']\n",
    "\n",
    "# Drop the columns\n",
    "cleaned_df = merged_df.drop(columns=cols_to_drop)\n",
    "cleaned_df.info()"
   ],
   "metadata": {
    "collapsed": false,
    "ExecuteTime": {
     "end_time": "2024-08-04T21:17:29.280695Z",
     "start_time": "2024-08-04T21:17:29.259706Z"
    }
   },
   "id": "f2bc1788ffd7395f",
   "execution_count": 53
  },
  {
   "cell_type": "code",
   "outputs": [
    {
     "name": "stdout",
     "output_type": "stream",
     "text": [
      "<class 'pandas.core.frame.DataFrame'>\n",
      "RangeIndex: 21133 entries, 0 to 21132\n",
      "Data columns (total 45 columns):\n",
      " #   Column                                  Non-Null Count  Dtype  \n",
      "---  ------                                  --------------  -----  \n",
      " 0   IdDisciplina                            21133 non-null  int64  \n",
      " 1   IdTurma                                 21133 non-null  int64  \n",
      " 2   IdAluno                                 21133 non-null  int64  \n",
      " 3   IdFaseNotaAtual                         21133 non-null  int64  \n",
      " 4   SituacaoAtual                           21133 non-null  object \n",
      " 5   StDisciplinaDispensada                  21133 non-null  object \n",
      " 6   IdUsuarioMatricula                      17954 non-null  float64\n",
      " 7   IdSituacaoAlunoDisciplina               21133 non-null  int64  \n",
      " 8   StGoogleEdu_Sincronizado                21133 non-null  bool   \n",
      " 9   NomeAluno                               21133 non-null  object \n",
      " 10  IdUnidade                               21123 non-null  float64\n",
      " 11  Sexo                                    21123 non-null  object \n",
      " 12  EstadoCivil                             21123 non-null  float64\n",
      " 13  DataNascimento                          21133 non-null  object \n",
      " 14  IdResponsavel                           21123 non-null  float64\n",
      " 15  IdTipoResponsavel                       21133 non-null  int64  \n",
      " 16  CorRaca                                 21123 non-null  object \n",
      " 17  StDeficienciaCegueira                   21123 non-null  object \n",
      " 18  StDeficienciaBaixaVisao                 21123 non-null  object \n",
      " 19  StDeficienciaSurdez                     21133 non-null  bool   \n",
      " 20  StDeficienciaAuditiva                   21133 non-null  bool   \n",
      " 21  StDeficienciaFisica                     21133 non-null  bool   \n",
      " 22  StDeficienciaSurdoCegueira              21133 non-null  bool   \n",
      " 23  StDeficienciaMultipla                   21133 non-null  bool   \n",
      " 24  StDeficienciaMental                     21133 non-null  bool   \n",
      " 25  StFalecido                              21123 non-null  object \n",
      " 26  StDeficienciaAutismoInfantil            21123 non-null  object \n",
      " 27  StDeficienciaSindromeAsperger           21123 non-null  object \n",
      " 28  StDeficienciaSindromeRett               21133 non-null  bool   \n",
      " 29  StDeficienciaTrastornoDesintegrativo    21133 non-null  bool   \n",
      " 30  StDeficienciaAltasHabilidades           21133 non-null  bool   \n",
      " 31  StAppComunicacao_Sincronizado           21123 non-null  object \n",
      " 32  StRecursoAuxilioLedor                   21123 non-null  object \n",
      " 33  StRecursoAuxilioTranscricao             21123 non-null  object \n",
      " 34  StRecursoGuiaInterprete                 21133 non-null  bool   \n",
      " 35  StRecursoTradutorInterpreteDeLibras     21133 non-null  bool   \n",
      " 36  StRecursoLeituraLabial                  21133 non-null  bool   \n",
      " 37  StRecursoMaterialDidaticoProvaBraille   21133 non-null  bool   \n",
      " 38  StRecursoProvaAmpliada                  21133 non-null  bool   \n",
      " 39  StRecursoProvaSuperampliada             21133 non-null  bool   \n",
      " 40  StRecursoCdComAudio                     21133 non-null  bool   \n",
      " 41  StRecursoLinguaPortuguesaSegundaLingua  21133 non-null  bool   \n",
      " 42  StRecursoProvaEmVideo                   21133 non-null  bool   \n",
      " 43  StPermiteUsoImagem                      21133 non-null  bool   \n",
      " 44  StEstrangeiro                           21133 non-null  bool   \n",
      "dtypes: bool(21), float64(4), int64(6), object(14)\n",
      "memory usage: 4.3+ MB\n"
     ]
    }
   ],
   "source": [
    "# Drop columns with more than 80% missing data\n",
    "threshold = len(cleaned_df) * 0.8\n",
    "cleaned_df = cleaned_df.dropna(thresh=threshold, axis=1)\n",
    "cleaned_df.info()"
   ],
   "metadata": {
    "collapsed": false,
    "ExecuteTime": {
     "end_time": "2024-08-04T21:17:30.945154Z",
     "start_time": "2024-08-04T21:17:30.915621Z"
    }
   },
   "id": "64c420291e307f01",
   "execution_count": 54
  },
  {
   "cell_type": "code",
   "outputs": [
    {
     "name": "stdout",
     "output_type": "stream",
     "text": [
      "       IdDisciplina       IdTurma       IdAluno  IdFaseNotaAtual  \\\n",
      "count  21133.000000  21133.000000  21133.000000     21133.000000   \n",
      "mean       9.692282    412.699617    857.099134       442.849714   \n",
      "std        8.005481    213.140641    570.060689       330.105841   \n",
      "min        1.000000     11.000000      3.000000        15.000000   \n",
      "25%        4.000000    200.000000    372.000000       224.000000   \n",
      "50%        5.000000    454.000000    761.000000       330.000000   \n",
      "75%       18.000000    615.000000   1234.000000       907.000000   \n",
      "max       25.000000    760.000000   2241.000000      1087.000000   \n",
      "\n",
      "       IdUsuarioMatricula  IdSituacaoAlunoDisciplina  IdUnidade   EstadoCivil  \\\n",
      "count        17954.000000               21133.000000    21123.0  21123.000000   \n",
      "mean           109.408433               14652.728150        1.0      4.671448   \n",
      "std            135.540591                8038.943985        0.0      1.238905   \n",
      "min             13.000000                   9.000000        1.0      0.000000   \n",
      "25%             15.000000                7806.000000        1.0      5.000000   \n",
      "50%             15.000000               15037.000000        1.0      5.000000   \n",
      "75%            297.000000               21670.000000        1.0      5.000000   \n",
      "max            317.000000               27463.000000        1.0      5.000000   \n",
      "\n",
      "       IdResponsavel  IdTipoResponsavel  \n",
      "count   21123.000000       21133.000000  \n",
      "mean      677.403967           3.122179  \n",
      "std       457.240515          14.876497  \n",
      "min         4.000000           1.000000  \n",
      "25%       290.000000           2.000000  \n",
      "50%       586.000000           2.000000  \n",
      "75%       999.000000           2.000000  \n",
      "max      1767.000000         676.000000  \n",
      "<class 'pandas.core.frame.DataFrame'>\n",
      "RangeIndex: 21133 entries, 0 to 21132\n",
      "Data columns (total 45 columns):\n",
      " #   Column                                  Non-Null Count  Dtype  \n",
      "---  ------                                  --------------  -----  \n",
      " 0   IdDisciplina                            21133 non-null  int64  \n",
      " 1   IdTurma                                 21133 non-null  int64  \n",
      " 2   IdAluno                                 21133 non-null  int64  \n",
      " 3   IdFaseNotaAtual                         21133 non-null  int64  \n",
      " 4   SituacaoAtual                           21133 non-null  object \n",
      " 5   StDisciplinaDispensada                  21133 non-null  object \n",
      " 6   IdUsuarioMatricula                      17954 non-null  float64\n",
      " 7   IdSituacaoAlunoDisciplina               21133 non-null  int64  \n",
      " 8   StGoogleEdu_Sincronizado                21133 non-null  bool   \n",
      " 9   NomeAluno                               21133 non-null  object \n",
      " 10  IdUnidade                               21123 non-null  float64\n",
      " 11  Sexo                                    21123 non-null  object \n",
      " 12  EstadoCivil                             21123 non-null  float64\n",
      " 13  DataNascimento                          21133 non-null  object \n",
      " 14  IdResponsavel                           21123 non-null  float64\n",
      " 15  IdTipoResponsavel                       21133 non-null  int64  \n",
      " 16  CorRaca                                 21123 non-null  object \n",
      " 17  StDeficienciaCegueira                   21123 non-null  object \n",
      " 18  StDeficienciaBaixaVisao                 21123 non-null  object \n",
      " 19  StDeficienciaSurdez                     21133 non-null  bool   \n",
      " 20  StDeficienciaAuditiva                   21133 non-null  bool   \n",
      " 21  StDeficienciaFisica                     21133 non-null  bool   \n",
      " 22  StDeficienciaSurdoCegueira              21133 non-null  bool   \n",
      " 23  StDeficienciaMultipla                   21133 non-null  bool   \n",
      " 24  StDeficienciaMental                     21133 non-null  bool   \n",
      " 25  StFalecido                              21123 non-null  object \n",
      " 26  StDeficienciaAutismoInfantil            21123 non-null  object \n",
      " 27  StDeficienciaSindromeAsperger           21123 non-null  object \n",
      " 28  StDeficienciaSindromeRett               21133 non-null  bool   \n",
      " 29  StDeficienciaTrastornoDesintegrativo    21133 non-null  bool   \n",
      " 30  StDeficienciaAltasHabilidades           21133 non-null  bool   \n",
      " 31  StAppComunicacao_Sincronizado           21123 non-null  object \n",
      " 32  StRecursoAuxilioLedor                   21123 non-null  object \n",
      " 33  StRecursoAuxilioTranscricao             21123 non-null  object \n",
      " 34  StRecursoGuiaInterprete                 21133 non-null  bool   \n",
      " 35  StRecursoTradutorInterpreteDeLibras     21133 non-null  bool   \n",
      " 36  StRecursoLeituraLabial                  21133 non-null  bool   \n",
      " 37  StRecursoMaterialDidaticoProvaBraille   21133 non-null  bool   \n",
      " 38  StRecursoProvaAmpliada                  21133 non-null  bool   \n",
      " 39  StRecursoProvaSuperampliada             21133 non-null  bool   \n",
      " 40  StRecursoCdComAudio                     21133 non-null  bool   \n",
      " 41  StRecursoLinguaPortuguesaSegundaLingua  21133 non-null  bool   \n",
      " 42  StRecursoProvaEmVideo                   21133 non-null  bool   \n",
      " 43  StPermiteUsoImagem                      21133 non-null  bool   \n",
      " 44  StEstrangeiro                           21133 non-null  bool   \n",
      "dtypes: bool(21), float64(4), int64(6), object(14)\n",
      "memory usage: 4.3+ MB\n",
      "None\n"
     ]
    }
   ],
   "source": [
    "# Data Understanding\n",
    "print(cleaned_df.describe())\n",
    "print(cleaned_df.info())"
   ],
   "metadata": {
    "collapsed": false,
    "ExecuteTime": {
     "end_time": "2024-08-04T21:19:07.597633Z",
     "start_time": "2024-08-04T21:19:07.575187Z"
    }
   },
   "id": "2ca7eaafadd6cb7e",
   "execution_count": 56
  },
  {
   "cell_type": "code",
   "outputs": [
    {
     "name": "stdout",
     "output_type": "stream",
     "text": [
      "<class 'pandas.core.frame.DataFrame'>\n",
      "RangeIndex: 21133 entries, 0 to 21132\n",
      "Data columns (total 46 columns):\n",
      " #   Column                                  Non-Null Count  Dtype  \n",
      "---  ------                                  --------------  -----  \n",
      " 0   IdDisciplina                            21133 non-null  int64  \n",
      " 1   IdTurma                                 21133 non-null  int64  \n",
      " 2   IdAluno                                 21133 non-null  int64  \n",
      " 3   IdFaseNotaAtual                         21133 non-null  int64  \n",
      " 4   SituacaoAtual                           21133 non-null  object \n",
      " 5   StDisciplinaDispensada                  21133 non-null  object \n",
      " 6   IdUsuarioMatricula                      21133 non-null  float64\n",
      " 7   IdSituacaoAlunoDisciplina               21133 non-null  int64  \n",
      " 8   StGoogleEdu_Sincronizado                21133 non-null  bool   \n",
      " 9   NomeAluno                               21133 non-null  object \n",
      " 10  IdUnidade                               21133 non-null  float64\n",
      " 11  Sexo                                    21133 non-null  object \n",
      " 12  EstadoCivil                             21133 non-null  float64\n",
      " 13  DataNascimento                          21133 non-null  object \n",
      " 14  IdResponsavel                           21133 non-null  float64\n",
      " 15  IdTipoResponsavel                       21133 non-null  int64  \n",
      " 16  CorRaca                                 21133 non-null  object \n",
      " 17  StDeficienciaCegueira                   21133 non-null  bool   \n",
      " 18  StDeficienciaBaixaVisao                 21133 non-null  bool   \n",
      " 19  StDeficienciaSurdez                     21133 non-null  bool   \n",
      " 20  StDeficienciaAuditiva                   21133 non-null  bool   \n",
      " 21  StDeficienciaFisica                     21133 non-null  bool   \n",
      " 22  StDeficienciaSurdoCegueira              21133 non-null  bool   \n",
      " 23  StDeficienciaMultipla                   21133 non-null  bool   \n",
      " 24  StDeficienciaMental                     21133 non-null  bool   \n",
      " 25  StFalecido                              21133 non-null  bool   \n",
      " 26  StDeficienciaAutismoInfantil            21133 non-null  bool   \n",
      " 27  StDeficienciaSindromeAsperger           21133 non-null  bool   \n",
      " 28  StDeficienciaSindromeRett               21133 non-null  bool   \n",
      " 29  StDeficienciaTrastornoDesintegrativo    21133 non-null  bool   \n",
      " 30  StDeficienciaAltasHabilidades           21133 non-null  bool   \n",
      " 31  StAppComunicacao_Sincronizado           21133 non-null  bool   \n",
      " 32  StRecursoAuxilioLedor                   21133 non-null  bool   \n",
      " 33  StRecursoAuxilioTranscricao             21133 non-null  bool   \n",
      " 34  StRecursoGuiaInterprete                 21133 non-null  bool   \n",
      " 35  StRecursoTradutorInterpreteDeLibras     21133 non-null  bool   \n",
      " 36  StRecursoLeituraLabial                  21133 non-null  bool   \n",
      " 37  StRecursoMaterialDidaticoProvaBraille   21133 non-null  bool   \n",
      " 38  StRecursoProvaAmpliada                  21133 non-null  bool   \n",
      " 39  StRecursoProvaSuperampliada             21133 non-null  bool   \n",
      " 40  StRecursoCdComAudio                     21133 non-null  bool   \n",
      " 41  StRecursoLinguaPortuguesaSegundaLingua  21133 non-null  bool   \n",
      " 42  StRecursoProvaEmVideo                   21133 non-null  bool   \n",
      " 43  StPermiteUsoImagem                      21133 non-null  bool   \n",
      " 44  StEstrangeiro                           21133 non-null  bool   \n",
      " 45  dropout_label                           21133 non-null  int64  \n",
      "dtypes: bool(29), float64(4), int64(7), object(6)\n",
      "memory usage: 3.3+ MB\n"
     ]
    }
   ],
   "source": [
    "cleaned_df.info()"
   ],
   "metadata": {
    "collapsed": false,
    "ExecuteTime": {
     "end_time": "2024-08-04T21:14:49.802813Z",
     "start_time": "2024-08-04T21:14:49.794335Z"
    }
   },
   "id": "a7454e4d3fb30ae2",
   "execution_count": 39
  },
  {
   "cell_type": "code",
   "outputs": [
    {
     "data": {
      "text/plain": "       IdDisciplina  IdTurma  IdAluno  IdFaseNotaAtual SituacaoAtual  \\\n0                 1      106        3               55             A   \n1                 4      106        3               55             A   \n2                 5      106        3               55             A   \n3                17      106        3               55             A   \n4                 5      113        5               67             A   \n...             ...      ...      ...              ...           ...   \n21128             1      659      413              990             C   \n21129             4      659      413              993             C   \n21130             5      659      413              993             C   \n21131            22      659      413              991             C   \n21132             5      698      413             1057             C   \n\n      StDisciplinaDispensada  IdUsuarioMatricula  IdSituacaoAlunoDisciplina  \\\n0                          A                15.0                          9   \n1                          A                15.0                         10   \n2                          A                15.0                         11   \n3                          A                15.0                         12   \n4                          A                16.0                         13   \n...                      ...                 ...                        ...   \n21128                      A                 NaN                      27458   \n21129                      A                 NaN                      27459   \n21130                      A                 NaN                      27460   \n21131                      A                 NaN                      27461   \n21132                      A                 NaN                      27463   \n\n       StGoogleEdu_Sincronizado  NomeAluno  ...  \\\n0                         False    Aluno 1  ...   \n1                         False    Aluno 1  ...   \n2                         False    Aluno 1  ...   \n3                         False    Aluno 1  ...   \n4                         False    Aluno 3  ...   \n...                         ...        ...  ...   \n21128                     False  Aluno 411  ...   \n21129                     False  Aluno 411  ...   \n21130                     False  Aluno 411  ...   \n21131                     False  Aluno 411  ...   \n21132                     False  Aluno 411  ...   \n\n       StRecursoTradutorInterpreteDeLibras StRecursoLeituraLabial  \\\n0                                    False                  False   \n1                                    False                  False   \n2                                    False                  False   \n3                                    False                  False   \n4                                    False                  False   \n...                                    ...                    ...   \n21128                                False                  False   \n21129                                False                  False   \n21130                                False                  False   \n21131                                False                  False   \n21132                                False                  False   \n\n       StRecursoMaterialDidaticoProvaBraille StRecursoProvaAmpliada  \\\n0                                      False                  False   \n1                                      False                  False   \n2                                      False                  False   \n3                                      False                  False   \n4                                      False                  False   \n...                                      ...                    ...   \n21128                                  False                  False   \n21129                                  False                  False   \n21130                                  False                  False   \n21131                                  False                  False   \n21132                                  False                  False   \n\n       StRecursoProvaSuperampliada  StRecursoCdComAudio  \\\n0                            False                False   \n1                            False                False   \n2                            False                False   \n3                            False                False   \n4                            False                False   \n...                            ...                  ...   \n21128                        False                False   \n21129                        False                False   \n21130                        False                False   \n21131                        False                False   \n21132                        False                False   \n\n      StRecursoLinguaPortuguesaSegundaLingua StRecursoProvaEmVideo  \\\n0                                      False                 False   \n1                                      False                 False   \n2                                      False                 False   \n3                                      False                 False   \n4                                      False                 False   \n...                                      ...                   ...   \n21128                                  False                 False   \n21129                                  False                 False   \n21130                                  False                 False   \n21131                                  False                 False   \n21132                                  False                 False   \n\n      StPermiteUsoImagem  StEstrangeiro  \n0                  False          False  \n1                  False          False  \n2                  False          False  \n3                  False          False  \n4                  False          False  \n...                  ...            ...  \n21128              False          False  \n21129              False          False  \n21130              False          False  \n21131              False          False  \n21132              False          False  \n\n[21133 rows x 45 columns]",
      "text/html": "<div>\n<style scoped>\n    .dataframe tbody tr th:only-of-type {\n        vertical-align: middle;\n    }\n\n    .dataframe tbody tr th {\n        vertical-align: top;\n    }\n\n    .dataframe thead th {\n        text-align: right;\n    }\n</style>\n<table border=\"1\" class=\"dataframe\">\n  <thead>\n    <tr style=\"text-align: right;\">\n      <th></th>\n      <th>IdDisciplina</th>\n      <th>IdTurma</th>\n      <th>IdAluno</th>\n      <th>IdFaseNotaAtual</th>\n      <th>SituacaoAtual</th>\n      <th>StDisciplinaDispensada</th>\n      <th>IdUsuarioMatricula</th>\n      <th>IdSituacaoAlunoDisciplina</th>\n      <th>StGoogleEdu_Sincronizado</th>\n      <th>NomeAluno</th>\n      <th>...</th>\n      <th>StRecursoTradutorInterpreteDeLibras</th>\n      <th>StRecursoLeituraLabial</th>\n      <th>StRecursoMaterialDidaticoProvaBraille</th>\n      <th>StRecursoProvaAmpliada</th>\n      <th>StRecursoProvaSuperampliada</th>\n      <th>StRecursoCdComAudio</th>\n      <th>StRecursoLinguaPortuguesaSegundaLingua</th>\n      <th>StRecursoProvaEmVideo</th>\n      <th>StPermiteUsoImagem</th>\n      <th>StEstrangeiro</th>\n    </tr>\n  </thead>\n  <tbody>\n    <tr>\n      <th>0</th>\n      <td>1</td>\n      <td>106</td>\n      <td>3</td>\n      <td>55</td>\n      <td>A</td>\n      <td>A</td>\n      <td>15.0</td>\n      <td>9</td>\n      <td>False</td>\n      <td>Aluno 1</td>\n      <td>...</td>\n      <td>False</td>\n      <td>False</td>\n      <td>False</td>\n      <td>False</td>\n      <td>False</td>\n      <td>False</td>\n      <td>False</td>\n      <td>False</td>\n      <td>False</td>\n      <td>False</td>\n    </tr>\n    <tr>\n      <th>1</th>\n      <td>4</td>\n      <td>106</td>\n      <td>3</td>\n      <td>55</td>\n      <td>A</td>\n      <td>A</td>\n      <td>15.0</td>\n      <td>10</td>\n      <td>False</td>\n      <td>Aluno 1</td>\n      <td>...</td>\n      <td>False</td>\n      <td>False</td>\n      <td>False</td>\n      <td>False</td>\n      <td>False</td>\n      <td>False</td>\n      <td>False</td>\n      <td>False</td>\n      <td>False</td>\n      <td>False</td>\n    </tr>\n    <tr>\n      <th>2</th>\n      <td>5</td>\n      <td>106</td>\n      <td>3</td>\n      <td>55</td>\n      <td>A</td>\n      <td>A</td>\n      <td>15.0</td>\n      <td>11</td>\n      <td>False</td>\n      <td>Aluno 1</td>\n      <td>...</td>\n      <td>False</td>\n      <td>False</td>\n      <td>False</td>\n      <td>False</td>\n      <td>False</td>\n      <td>False</td>\n      <td>False</td>\n      <td>False</td>\n      <td>False</td>\n      <td>False</td>\n    </tr>\n    <tr>\n      <th>3</th>\n      <td>17</td>\n      <td>106</td>\n      <td>3</td>\n      <td>55</td>\n      <td>A</td>\n      <td>A</td>\n      <td>15.0</td>\n      <td>12</td>\n      <td>False</td>\n      <td>Aluno 1</td>\n      <td>...</td>\n      <td>False</td>\n      <td>False</td>\n      <td>False</td>\n      <td>False</td>\n      <td>False</td>\n      <td>False</td>\n      <td>False</td>\n      <td>False</td>\n      <td>False</td>\n      <td>False</td>\n    </tr>\n    <tr>\n      <th>4</th>\n      <td>5</td>\n      <td>113</td>\n      <td>5</td>\n      <td>67</td>\n      <td>A</td>\n      <td>A</td>\n      <td>16.0</td>\n      <td>13</td>\n      <td>False</td>\n      <td>Aluno 3</td>\n      <td>...</td>\n      <td>False</td>\n      <td>False</td>\n      <td>False</td>\n      <td>False</td>\n      <td>False</td>\n      <td>False</td>\n      <td>False</td>\n      <td>False</td>\n      <td>False</td>\n      <td>False</td>\n    </tr>\n    <tr>\n      <th>...</th>\n      <td>...</td>\n      <td>...</td>\n      <td>...</td>\n      <td>...</td>\n      <td>...</td>\n      <td>...</td>\n      <td>...</td>\n      <td>...</td>\n      <td>...</td>\n      <td>...</td>\n      <td>...</td>\n      <td>...</td>\n      <td>...</td>\n      <td>...</td>\n      <td>...</td>\n      <td>...</td>\n      <td>...</td>\n      <td>...</td>\n      <td>...</td>\n      <td>...</td>\n      <td>...</td>\n    </tr>\n    <tr>\n      <th>21128</th>\n      <td>1</td>\n      <td>659</td>\n      <td>413</td>\n      <td>990</td>\n      <td>C</td>\n      <td>A</td>\n      <td>NaN</td>\n      <td>27458</td>\n      <td>False</td>\n      <td>Aluno 411</td>\n      <td>...</td>\n      <td>False</td>\n      <td>False</td>\n      <td>False</td>\n      <td>False</td>\n      <td>False</td>\n      <td>False</td>\n      <td>False</td>\n      <td>False</td>\n      <td>False</td>\n      <td>False</td>\n    </tr>\n    <tr>\n      <th>21129</th>\n      <td>4</td>\n      <td>659</td>\n      <td>413</td>\n      <td>993</td>\n      <td>C</td>\n      <td>A</td>\n      <td>NaN</td>\n      <td>27459</td>\n      <td>False</td>\n      <td>Aluno 411</td>\n      <td>...</td>\n      <td>False</td>\n      <td>False</td>\n      <td>False</td>\n      <td>False</td>\n      <td>False</td>\n      <td>False</td>\n      <td>False</td>\n      <td>False</td>\n      <td>False</td>\n      <td>False</td>\n    </tr>\n    <tr>\n      <th>21130</th>\n      <td>5</td>\n      <td>659</td>\n      <td>413</td>\n      <td>993</td>\n      <td>C</td>\n      <td>A</td>\n      <td>NaN</td>\n      <td>27460</td>\n      <td>False</td>\n      <td>Aluno 411</td>\n      <td>...</td>\n      <td>False</td>\n      <td>False</td>\n      <td>False</td>\n      <td>False</td>\n      <td>False</td>\n      <td>False</td>\n      <td>False</td>\n      <td>False</td>\n      <td>False</td>\n      <td>False</td>\n    </tr>\n    <tr>\n      <th>21131</th>\n      <td>22</td>\n      <td>659</td>\n      <td>413</td>\n      <td>991</td>\n      <td>C</td>\n      <td>A</td>\n      <td>NaN</td>\n      <td>27461</td>\n      <td>False</td>\n      <td>Aluno 411</td>\n      <td>...</td>\n      <td>False</td>\n      <td>False</td>\n      <td>False</td>\n      <td>False</td>\n      <td>False</td>\n      <td>False</td>\n      <td>False</td>\n      <td>False</td>\n      <td>False</td>\n      <td>False</td>\n    </tr>\n    <tr>\n      <th>21132</th>\n      <td>5</td>\n      <td>698</td>\n      <td>413</td>\n      <td>1057</td>\n      <td>C</td>\n      <td>A</td>\n      <td>NaN</td>\n      <td>27463</td>\n      <td>False</td>\n      <td>Aluno 411</td>\n      <td>...</td>\n      <td>False</td>\n      <td>False</td>\n      <td>False</td>\n      <td>False</td>\n      <td>False</td>\n      <td>False</td>\n      <td>False</td>\n      <td>False</td>\n      <td>False</td>\n      <td>False</td>\n    </tr>\n  </tbody>\n</table>\n<p>21133 rows × 45 columns</p>\n</div>"
     },
     "execution_count": 59,
     "metadata": {},
     "output_type": "execute_result"
    }
   ],
   "source": [
    "cleaned_df"
   ],
   "metadata": {
    "collapsed": false,
    "ExecuteTime": {
     "end_time": "2024-08-04T21:20:30.730888Z",
     "start_time": "2024-08-04T21:20:30.721121Z"
    }
   },
   "id": "f52daacb23240cfa",
   "execution_count": 59
  },
  {
   "cell_type": "code",
   "outputs": [
    {
     "data": {
      "text/plain": "SituacaoAtual\nC    19371\nA     1762\nName: count, dtype: int64"
     },
     "execution_count": 72,
     "metadata": {},
     "output_type": "execute_result"
    }
   ],
   "source": [
    "cleaned_df['SituacaoAtual'].value_counts()"
   ],
   "metadata": {
    "collapsed": false,
    "ExecuteTime": {
     "end_time": "2024-08-04T21:29:13.316546Z",
     "start_time": "2024-08-04T21:29:13.313103Z"
    }
   },
   "id": "b8bed980aa964b8d",
   "execution_count": 72
  },
  {
   "cell_type": "code",
   "outputs": [],
   "source": [],
   "metadata": {
    "collapsed": false
   },
   "id": "c9de030475df781b"
  }
 ],
 "metadata": {
  "kernelspec": {
   "display_name": "Python 3",
   "language": "python",
   "name": "python3"
  },
  "language_info": {
   "codemirror_mode": {
    "name": "ipython",
    "version": 2
   },
   "file_extension": ".py",
   "mimetype": "text/x-python",
   "name": "python",
   "nbconvert_exporter": "python",
   "pygments_lexer": "ipython2",
   "version": "2.7.6"
  }
 },
 "nbformat": 4,
 "nbformat_minor": 5
}
