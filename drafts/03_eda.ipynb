{
 "cells": [
  {
   "cell_type": "markdown",
   "source": [
    "### 1. Question: What factors most influence student performance?\n",
    "Objective: Determine which factors (e.g., attendance, specific subjects, types of evaluation) most significantly correlate with student performance."
   ],
   "metadata": {
    "collapsed": false
   },
   "id": "82d1233ec5f0a0a7"
  },
  {
   "cell_type": "markdown",
   "source": [
    "### 2. Question: Can we predict student dropout or failure based on early performance indicators?\n",
    "Objective: Build a predictive model to identify students at risk of dropping out or failing.\n",
    "- Tables to Use:\n",
    "    - TbSituacaoAlunoDisciplina\n",
    "    - TbMetaFaseNotaAluno\n",
    "    - TbMeta\n",
    "    - TbDiarioFrequencia\n",
    "- Approach:\n",
    "    - Join tables to gather historical performance and attendance data.\n",
    "    - Use classification algorithms (e.g., logistic regression, random forest) to predict dropout or failure risk.\n"
   ],
   "metadata": {
    "collapsed": false
   },
   "id": "cea440a282dccf9a"
  },
  {
   "cell_type": "code",
   "outputs": [],
   "source": [],
   "metadata": {
    "collapsed": false
   },
   "id": "6f7309119c39c424"
  },
  {
   "cell_type": "code",
   "outputs": [
    {
     "data": {
      "text/plain": "IdAluno  StPresencaFalta\n3        P                  158\n         F                   24\n4        F                   70\n         P                   48\n5        P                   16\n                           ... \n2237     P                   12\n2238     P                   11\n         J                    1\n2241     P                    8\n         F                    4\nName: count, Length: 5163, dtype: int64"
     },
     "execution_count": 15,
     "metadata": {},
     "output_type": "execute_result"
    }
   ],
   "source": [
    "import pandas as pd\n",
    "\n",
    "# Load one of the CSV files\n",
    "tb_aluno = pd.read_csv('csv_output/Tabelas/TbAluno/Originais anonimizados/TbAluno.csv')\n",
    "\n",
    "# Example: Joining TbAluno with TbDiarioFrequencia\n",
    "tb_diario_frequencia = pd.read_csv('csv_output/Tabelas/TbDiario/Originais anonimizados/TbDiarioFrequencia.csv')\n",
    "\n",
    "# Merge on IdAluno\n",
    "merged_data = pd.merge(tb_aluno, tb_diario_frequencia, on='IdAluno')\n",
    "\n",
    "# Analyze attendance by student\n",
    "attendance_summary = merged_data.groupby('IdAluno')['StPresencaFalta'].value_counts()\n",
    "\n",
    "attendance_summary\n"
   ],
   "metadata": {
    "collapsed": false,
    "ExecuteTime": {
     "end_time": "2024-08-04T21:41:53.127696Z",
     "start_time": "2024-08-04T21:41:52.980Z"
    }
   },
   "id": "13b19c3de1881d6e",
   "execution_count": 15
  },
  {
   "cell_type": "code",
   "outputs": [
    {
     "name": "stdout",
     "output_type": "stream",
     "text": [
      "Dropped columns with only one unique value: ['StDeficienciaCegueira', 'StDeficienciaBaixaVisao', 'StDeficienciaSurdez', 'StDeficienciaAuditiva', 'StDeficienciaFisica', 'StDeficienciaSurdoCegueira', 'StDeficienciaMultipla', 'StDeficienciaMental', 'StFalecido', 'StDeficienciaAutismoInfantil', 'StDeficienciaSindromeAsperger', 'StDeficienciaSindromeRett', 'StDeficienciaTrastornoDesintegrativo', 'StDeficienciaAltasHabilidades', 'StAppComunicacao_Sincronizado', 'StRecursoAuxilioLedor', 'StRecursoAuxilioTranscricao', 'StRecursoGuiaInterprete', 'StRecursoTradutorInterpreteDeLibras', 'StRecursoLeituraLabial', 'StRecursoMaterialDidaticoProvaBraille', 'StRecursoProvaAmpliada', 'StRecursoProvaSuperampliada', 'StRecursoCdComAudio', 'StRecursoLinguaPortuguesaSegundaLingua', 'StRecursoProvaEmVideo', 'StPermiteUsoImagem', 'StEstrangeiro']\n"
     ]
    },
    {
     "data": {
      "text/plain": "        IdAluno  EstadoCivil       DataNascimento  IdDiarioFrequencia  \\\n0             3          5.0  2005-03-29 03:00:00                 440   \n1             3          5.0  2005-03-29 03:00:00                 441   \n2             3          5.0  2005-03-29 03:00:00                 442   \n3             3          5.0  2005-03-29 03:00:00                 443   \n4             3          5.0  2005-03-29 03:00:00                1794   \n...         ...          ...                  ...                 ...   \n313104     2241          5.0  2016-04-25 00:00:00              312342   \n313105     2241          5.0  2016-04-25 00:00:00              313278   \n313106     2241          5.0  2016-04-25 00:00:00              314361   \n313107     2241          5.0  2016-04-25 00:00:00              316487   \n313108     2241          5.0  2016-04-25 00:00:00              316650   \n\n        IdDiarioAula StPresencaFalta  \n0                 36               P  \n1                 37               P  \n2                 38               P  \n3                 39               P  \n4                299               F  \n...              ...             ...  \n313104         24894               P  \n313105         24937               F  \n313106         25045               P  \n313107         25204               P  \n313108         25170               P  \n\n[313109 rows x 6 columns]",
      "text/html": "<div>\n<style scoped>\n    .dataframe tbody tr th:only-of-type {\n        vertical-align: middle;\n    }\n\n    .dataframe tbody tr th {\n        vertical-align: top;\n    }\n\n    .dataframe thead th {\n        text-align: right;\n    }\n</style>\n<table border=\"1\" class=\"dataframe\">\n  <thead>\n    <tr style=\"text-align: right;\">\n      <th></th>\n      <th>IdAluno</th>\n      <th>EstadoCivil</th>\n      <th>DataNascimento</th>\n      <th>IdDiarioFrequencia</th>\n      <th>IdDiarioAula</th>\n      <th>StPresencaFalta</th>\n    </tr>\n  </thead>\n  <tbody>\n    <tr>\n      <th>0</th>\n      <td>3</td>\n      <td>5.0</td>\n      <td>2005-03-29 03:00:00</td>\n      <td>440</td>\n      <td>36</td>\n      <td>P</td>\n    </tr>\n    <tr>\n      <th>1</th>\n      <td>3</td>\n      <td>5.0</td>\n      <td>2005-03-29 03:00:00</td>\n      <td>441</td>\n      <td>37</td>\n      <td>P</td>\n    </tr>\n    <tr>\n      <th>2</th>\n      <td>3</td>\n      <td>5.0</td>\n      <td>2005-03-29 03:00:00</td>\n      <td>442</td>\n      <td>38</td>\n      <td>P</td>\n    </tr>\n    <tr>\n      <th>3</th>\n      <td>3</td>\n      <td>5.0</td>\n      <td>2005-03-29 03:00:00</td>\n      <td>443</td>\n      <td>39</td>\n      <td>P</td>\n    </tr>\n    <tr>\n      <th>4</th>\n      <td>3</td>\n      <td>5.0</td>\n      <td>2005-03-29 03:00:00</td>\n      <td>1794</td>\n      <td>299</td>\n      <td>F</td>\n    </tr>\n    <tr>\n      <th>...</th>\n      <td>...</td>\n      <td>...</td>\n      <td>...</td>\n      <td>...</td>\n      <td>...</td>\n      <td>...</td>\n    </tr>\n    <tr>\n      <th>313104</th>\n      <td>2241</td>\n      <td>5.0</td>\n      <td>2016-04-25 00:00:00</td>\n      <td>312342</td>\n      <td>24894</td>\n      <td>P</td>\n    </tr>\n    <tr>\n      <th>313105</th>\n      <td>2241</td>\n      <td>5.0</td>\n      <td>2016-04-25 00:00:00</td>\n      <td>313278</td>\n      <td>24937</td>\n      <td>F</td>\n    </tr>\n    <tr>\n      <th>313106</th>\n      <td>2241</td>\n      <td>5.0</td>\n      <td>2016-04-25 00:00:00</td>\n      <td>314361</td>\n      <td>25045</td>\n      <td>P</td>\n    </tr>\n    <tr>\n      <th>313107</th>\n      <td>2241</td>\n      <td>5.0</td>\n      <td>2016-04-25 00:00:00</td>\n      <td>316487</td>\n      <td>25204</td>\n      <td>P</td>\n    </tr>\n    <tr>\n      <th>313108</th>\n      <td>2241</td>\n      <td>5.0</td>\n      <td>2016-04-25 00:00:00</td>\n      <td>316650</td>\n      <td>25170</td>\n      <td>P</td>\n    </tr>\n  </tbody>\n</table>\n<p>313109 rows × 6 columns</p>\n</div>"
     },
     "execution_count": 21,
     "metadata": {},
     "output_type": "execute_result"
    }
   ],
   "source": [
    "  # Drop columns with high percentage of missing values\n",
    "missing_series = merged_data.isnull().mean()\n",
    "columns_to_drop = missing_series[missing_series > 0.5].index\n",
    "merged_data = merged_data.drop(columns=columns_to_drop)\n",
    "merged_data_cleaned = merged_data.drop(columns=[ 'NomeAluno'])\n",
    "\n",
    " # Select only numeric columns for variance and correlation checks\n",
    "numeric_df = merged_data_cleaned.select_dtypes(include=['number'])\n",
    "\n",
    "# Drop columns with low variance\n",
    "variance_series = numeric_df.var()\n",
    "columns_to_drop = variance_series[variance_series < 0.01].index\n",
    "df = merged_data_cleaned.drop(columns=columns_to_drop)\n",
    "df\n",
    "\n",
    "# Drop columns with only one unique value\n",
    "unique_value_counts = df.nunique()\n",
    "columns_to_drop = unique_value_counts[unique_value_counts == 1].index\n",
    "df = df.drop(columns=columns_to_drop)\n",
    "print(f\"Dropped columns with only one unique value: {list(columns_to_drop)}\")\n",
    "\n",
    "df_cleaned = df.drop(columns=['Sexo', 'IdMae', 'IdResponsavel', 'IdTipoResponsavel', 'CorRaca'])\n",
    "df_cleaned"
   ],
   "metadata": {
    "collapsed": false,
    "ExecuteTime": {
     "end_time": "2024-08-04T21:44:36.844622Z",
     "start_time": "2024-08-04T21:44:36.571546Z"
    }
   },
   "id": "e07cf66a44b17b04",
   "execution_count": 21
  },
  {
   "cell_type": "code",
   "outputs": [
    {
     "data": {
      "text/plain": "        IdAluno  EstadoCivil  IdDiarioFrequencia  IdDiarioAula  \\\n0             3          5.0                 440            36   \n1             3          5.0                 441            37   \n2             3          5.0                 442            38   \n3             3          5.0                 443            39   \n4             3          5.0                1794           299   \n...         ...          ...                 ...           ...   \n313104     2241          5.0              312342         24894   \n313105     2241          5.0              313278         24937   \n313106     2241          5.0              314361         25045   \n313107     2241          5.0              316487         25204   \n313108     2241          5.0              316650         25170   \n\n       StPresencaFalta  Idade  \n0                    P   19.0  \n1                    P   19.0  \n2                    P   19.0  \n3                    P   19.0  \n4                    F   19.0  \n...                ...    ...  \n313104               P    8.0  \n313105               F    8.0  \n313106               P    8.0  \n313107               P    8.0  \n313108               P    8.0  \n\n[313109 rows x 6 columns]",
      "text/html": "<div>\n<style scoped>\n    .dataframe tbody tr th:only-of-type {\n        vertical-align: middle;\n    }\n\n    .dataframe tbody tr th {\n        vertical-align: top;\n    }\n\n    .dataframe thead th {\n        text-align: right;\n    }\n</style>\n<table border=\"1\" class=\"dataframe\">\n  <thead>\n    <tr style=\"text-align: right;\">\n      <th></th>\n      <th>IdAluno</th>\n      <th>EstadoCivil</th>\n      <th>IdDiarioFrequencia</th>\n      <th>IdDiarioAula</th>\n      <th>StPresencaFalta</th>\n      <th>Idade</th>\n    </tr>\n  </thead>\n  <tbody>\n    <tr>\n      <th>0</th>\n      <td>3</td>\n      <td>5.0</td>\n      <td>440</td>\n      <td>36</td>\n      <td>P</td>\n      <td>19.0</td>\n    </tr>\n    <tr>\n      <th>1</th>\n      <td>3</td>\n      <td>5.0</td>\n      <td>441</td>\n      <td>37</td>\n      <td>P</td>\n      <td>19.0</td>\n    </tr>\n    <tr>\n      <th>2</th>\n      <td>3</td>\n      <td>5.0</td>\n      <td>442</td>\n      <td>38</td>\n      <td>P</td>\n      <td>19.0</td>\n    </tr>\n    <tr>\n      <th>3</th>\n      <td>3</td>\n      <td>5.0</td>\n      <td>443</td>\n      <td>39</td>\n      <td>P</td>\n      <td>19.0</td>\n    </tr>\n    <tr>\n      <th>4</th>\n      <td>3</td>\n      <td>5.0</td>\n      <td>1794</td>\n      <td>299</td>\n      <td>F</td>\n      <td>19.0</td>\n    </tr>\n    <tr>\n      <th>...</th>\n      <td>...</td>\n      <td>...</td>\n      <td>...</td>\n      <td>...</td>\n      <td>...</td>\n      <td>...</td>\n    </tr>\n    <tr>\n      <th>313104</th>\n      <td>2241</td>\n      <td>5.0</td>\n      <td>312342</td>\n      <td>24894</td>\n      <td>P</td>\n      <td>8.0</td>\n    </tr>\n    <tr>\n      <th>313105</th>\n      <td>2241</td>\n      <td>5.0</td>\n      <td>313278</td>\n      <td>24937</td>\n      <td>F</td>\n      <td>8.0</td>\n    </tr>\n    <tr>\n      <th>313106</th>\n      <td>2241</td>\n      <td>5.0</td>\n      <td>314361</td>\n      <td>25045</td>\n      <td>P</td>\n      <td>8.0</td>\n    </tr>\n    <tr>\n      <th>313107</th>\n      <td>2241</td>\n      <td>5.0</td>\n      <td>316487</td>\n      <td>25204</td>\n      <td>P</td>\n      <td>8.0</td>\n    </tr>\n    <tr>\n      <th>313108</th>\n      <td>2241</td>\n      <td>5.0</td>\n      <td>316650</td>\n      <td>25170</td>\n      <td>P</td>\n      <td>8.0</td>\n    </tr>\n  </tbody>\n</table>\n<p>313109 rows × 6 columns</p>\n</div>"
     },
     "execution_count": 29,
     "metadata": {},
     "output_type": "execute_result"
    }
   ],
   "source": [
    "# Convert the birthdate column to datetime format\n",
    "df_cleaned['DataNascimento'] = pd.to_datetime(df_cleaned['DataNascimento'], errors='coerce')\n",
    "\n",
    "\n",
    "# Calculate age by subtracting the birthdate from the current date\n",
    "today = pd.to_datetime('today')\n",
    "df_cleaned\n",
    "\n",
    "\n",
    "df_cleaned_idade = df_cleaned.drop(columns=['DataNascimento'])\n",
    "df_cleaned_idade"
   ],
   "metadata": {
    "collapsed": false,
    "ExecuteTime": {
     "end_time": "2024-08-04T21:48:46.811182Z",
     "start_time": "2024-08-04T21:48:46.796051Z"
    }
   },
   "id": "7369b2d0f7ebbf3b",
   "execution_count": 29
  },
  {
   "cell_type": "code",
   "outputs": [
    {
     "data": {
      "text/plain": "IdAluno  StPresencaFalta\n3        P                  158\n         F                   24\n4        F                   70\n         P                   48\n5        P                   16\n                           ... \n2237     P                   12\n2238     P                   11\n         J                    1\n2241     P                    8\n         F                    4\nName: count, Length: 5163, dtype: int64"
     },
     "execution_count": 33,
     "metadata": {},
     "output_type": "execute_result"
    }
   ],
   "source": [
    "df_cleaned_idade.groupby('IdAluno')['StPresencaFalta'].value_counts()"
   ],
   "metadata": {
    "collapsed": false,
    "ExecuteTime": {
     "end_time": "2024-08-04T21:50:55.598280Z",
     "start_time": "2024-08-04T21:50:55.578751Z"
    }
   },
   "id": "808bc5eac37cb2cf",
   "execution_count": 33
  },
  {
   "cell_type": "code",
   "outputs": [
    {
     "data": {
      "text/plain": "      IdAluno  Total_Presenca  Total_Falta\n0           3             158           24\n1           4              48           70\n2           5              16           11\n3           6               0           27\n4           7               1           26\n...       ...             ...          ...\n2127     2235              15            0\n2128     2236              14            0\n2129     2237              12            0\n2130     2238              11            1\n2131     2241               8            4\n\n[2132 rows x 3 columns]",
      "text/html": "<div>\n<style scoped>\n    .dataframe tbody tr th:only-of-type {\n        vertical-align: middle;\n    }\n\n    .dataframe tbody tr th {\n        vertical-align: top;\n    }\n\n    .dataframe thead th {\n        text-align: right;\n    }\n</style>\n<table border=\"1\" class=\"dataframe\">\n  <thead>\n    <tr style=\"text-align: right;\">\n      <th></th>\n      <th>IdAluno</th>\n      <th>Total_Presenca</th>\n      <th>Total_Falta</th>\n    </tr>\n  </thead>\n  <tbody>\n    <tr>\n      <th>0</th>\n      <td>3</td>\n      <td>158</td>\n      <td>24</td>\n    </tr>\n    <tr>\n      <th>1</th>\n      <td>4</td>\n      <td>48</td>\n      <td>70</td>\n    </tr>\n    <tr>\n      <th>2</th>\n      <td>5</td>\n      <td>16</td>\n      <td>11</td>\n    </tr>\n    <tr>\n      <th>3</th>\n      <td>6</td>\n      <td>0</td>\n      <td>27</td>\n    </tr>\n    <tr>\n      <th>4</th>\n      <td>7</td>\n      <td>1</td>\n      <td>26</td>\n    </tr>\n    <tr>\n      <th>...</th>\n      <td>...</td>\n      <td>...</td>\n      <td>...</td>\n    </tr>\n    <tr>\n      <th>2127</th>\n      <td>2235</td>\n      <td>15</td>\n      <td>0</td>\n    </tr>\n    <tr>\n      <th>2128</th>\n      <td>2236</td>\n      <td>14</td>\n      <td>0</td>\n    </tr>\n    <tr>\n      <th>2129</th>\n      <td>2237</td>\n      <td>12</td>\n      <td>0</td>\n    </tr>\n    <tr>\n      <th>2130</th>\n      <td>2238</td>\n      <td>11</td>\n      <td>1</td>\n    </tr>\n    <tr>\n      <th>2131</th>\n      <td>2241</td>\n      <td>8</td>\n      <td>4</td>\n    </tr>\n  </tbody>\n</table>\n<p>2132 rows × 3 columns</p>\n</div>"
     },
     "execution_count": 38,
     "metadata": {},
     "output_type": "execute_result"
    }
   ],
   "source": [
    "# Assuming your DataFrame is named df\n",
    "df_cleaned_idade['Presenca'] = df_cleaned_idade['StPresencaFalta'].apply(lambda x: 1 if x == 'P' else 0)\n",
    "df_cleaned_idade['Falta'] = df_cleaned_idade['StPresencaFalta'].apply(lambda x: 1 if x == 'F' or x == 'J' else 0)\n",
    "\n",
    "# Group by IdAluno and aggregate counts\n",
    "presence_absence_counts = df_cleaned_idade.groupby(['IdAluno']).agg(\n",
    "    Total_Presenca=('Presenca', 'sum'),\n",
    "    Total_Falta=('Falta', 'sum')\n",
    ").reset_index()\n",
    "\n",
    "# Display the result\n",
    "presence_absence_counts\n"
   ],
   "metadata": {
    "collapsed": false,
    "ExecuteTime": {
     "end_time": "2024-08-04T21:54:56.900271Z",
     "start_time": "2024-08-04T21:54:56.774359Z"
    }
   },
   "id": "9edca0c74f08e6fc",
   "execution_count": 38
  },
  {
   "cell_type": "code",
   "outputs": [],
   "source": [],
   "metadata": {
    "collapsed": false
   },
   "id": "8b8f11ce8f2d8d40"
  }
 ],
 "metadata": {
  "kernelspec": {
   "display_name": "Python 3",
   "language": "python",
   "name": "python3"
  },
  "language_info": {
   "codemirror_mode": {
    "name": "ipython",
    "version": 2
   },
   "file_extension": ".py",
   "mimetype": "text/x-python",
   "name": "python",
   "nbconvert_exporter": "python",
   "pygments_lexer": "ipython2",
   "version": "2.7.6"
  }
 },
 "nbformat": 4,
 "nbformat_minor": 5
}
