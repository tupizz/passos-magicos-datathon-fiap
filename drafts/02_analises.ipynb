{
 "cells": [
  {
   "cell_type": "markdown",
   "source": [
    "Classificaça o do Aluno baseado no nu mero do INDE, o\n",
    "\n",
    "conceito de classificaça o e dado por:\n",
    "Quartzo – 2,405 a 5,506\n",
    "A gata – 5,506 a 6,868\n",
    "Ametista – 6,868 a 8,230\n",
    "Topa zio – 8,230 a 9,294.\n",
    "Cada Pedra possui uma descriça o."
   ],
   "metadata": {
    "collapsed": false
   },
   "id": "2b2869d5c5a2a813"
  },
  {
   "cell_type": "code",
   "execution_count": 35,
   "id": "initial_id",
   "metadata": {
    "collapsed": true,
    "ExecuteTime": {
     "end_time": "2024-08-04T15:44:11.423602Z",
     "start_time": "2024-08-04T15:44:11.167461Z"
    }
   },
   "outputs": [
    {
     "data": {
      "text/plain": "       IdAlunoRotinaEducacaoInfantil  IdAluno  IdTurma_x                 Data  \\\n0                              16139      727        231  2021-08-24 00:00:00   \n1                              16139      727        231  2021-08-24 00:00:00   \n2                              16139      727        231  2021-08-24 00:00:00   \n3                              16139      727        231  2021-08-24 00:00:00   \n4                              16139      727        231  2021-08-24 00:00:00   \n...                              ...      ...        ...                  ...   \n49084                         118059     1310        505  2023-03-21 00:00:00   \n49085                         118059     1310        505  2023-03-21 00:00:00   \n49086                         118059     1310        505  2023-03-21 00:00:00   \n49087                         118059     1310        505  2023-03-21 00:00:00   \n49088                         118059     1310        505  2023-03-21 00:00:00   \n\n       IdProfessorResponsavel  IdUsuarioResponsavel  \\\n0                        11.0                   NaN   \n1                        11.0                   NaN   \n2                        11.0                   NaN   \n3                        11.0                   NaN   \n4                        11.0                   NaN   \n...                       ...                   ...   \n49084                    21.0                   NaN   \n49085                    21.0                   NaN   \n49086                    21.0                   NaN   \n49087                    21.0                   NaN   \n49088                    21.0                   NaN   \n\n       IdFormularioRotinaEducacaoInfantil  IdAlunoObs  IdTipoOcorrencia  \\\n0                                       1        9789                21   \n1                                       1        9789                21   \n2                                       1        9789                21   \n3                                       1        9789                21   \n4                                       1        9789                21   \n...                                   ...         ...               ...   \n49084                                   1       22845                32   \n49085                                   1       22845                32   \n49086                                   1       22845                32   \n49087                                   1       22845                32   \n49088                                   1       22845                32   \n\n       StImpedimento  ... StRecursoLinguaPortuguesaSegundaLingua  \\\n0              False  ...                                  False   \n1              False  ...                                  False   \n2              False  ...                                  False   \n3              False  ...                                  False   \n4              False  ...                                  False   \n...              ...  ...                                    ...   \n49084          False  ...                                  False   \n49085          False  ...                                  False   \n49086          False  ...                                  False   \n49087          False  ...                                  False   \n49088          False  ...                                  False   \n\n       StRecursoProvaEmVideo StPermiteUsoImagem  StEstrangeiro  Unnamed: 55  \\\n0                      False              False          False          NaN   \n1                      False              False          False          NaN   \n2                      False              False          False          NaN   \n3                      False              False          False          NaN   \n4                      False              False          False          NaN   \n...                      ...                ...            ...          ...   \n49084                  False              False          False          NaN   \n49085                  False              False          False          NaN   \n49086                  False              False          False          NaN   \n49087                  False              False          False          NaN   \n49088                  False              False          False          NaN   \n\n                 DataOcorrencia_y IdTurma  IdSituacaoAlunoTurma_y  \\\n0      2021-08-20 17:44:09.803000     231                     1.0   \n1      2021-09-22 12:25:38.363000     142                     1.0   \n2      2021-12-28 15:14:53.953000     142                     9.0   \n3      2021-12-28 15:21:27.383000     231                     9.0   \n4      2022-02-09 14:53:07.403000     198                     1.0   \n...                           ...     ...                     ...   \n49084  2024-01-16 14:31:41.797000     597                     9.0   \n49085  2024-01-16 14:35:21.527000     574                     9.0   \n49086  2024-01-26 15:41:33.793000     662                     1.0   \n49087  2024-01-26 15:42:12.230000     724                     1.0   \n49088  2024-02-02 19:54:20.163000     711                     1.0   \n\n       IdFaseNotaInicial_y  IdUsuario  \n0                      NaN         15  \n1                      NaN         14  \n2                      NaN         15  \n3                      NaN         15  \n4                      NaN         16  \n...                    ...        ...  \n49084                  NaN         15  \n49085                  NaN         15  \n49086                  NaN        297  \n49087                  NaN        297  \n49088                  NaN         15  \n\n[49089 rows x 116 columns]",
      "text/html": "<div>\n<style scoped>\n    .dataframe tbody tr th:only-of-type {\n        vertical-align: middle;\n    }\n\n    .dataframe tbody tr th {\n        vertical-align: top;\n    }\n\n    .dataframe thead th {\n        text-align: right;\n    }\n</style>\n<table border=\"1\" class=\"dataframe\">\n  <thead>\n    <tr style=\"text-align: right;\">\n      <th></th>\n      <th>IdAlunoRotinaEducacaoInfantil</th>\n      <th>IdAluno</th>\n      <th>IdTurma_x</th>\n      <th>Data</th>\n      <th>IdProfessorResponsavel</th>\n      <th>IdUsuarioResponsavel</th>\n      <th>IdFormularioRotinaEducacaoInfantil</th>\n      <th>IdAlunoObs</th>\n      <th>IdTipoOcorrencia</th>\n      <th>StImpedimento</th>\n      <th>...</th>\n      <th>StRecursoLinguaPortuguesaSegundaLingua</th>\n      <th>StRecursoProvaEmVideo</th>\n      <th>StPermiteUsoImagem</th>\n      <th>StEstrangeiro</th>\n      <th>Unnamed: 55</th>\n      <th>DataOcorrencia_y</th>\n      <th>IdTurma</th>\n      <th>IdSituacaoAlunoTurma_y</th>\n      <th>IdFaseNotaInicial_y</th>\n      <th>IdUsuario</th>\n    </tr>\n  </thead>\n  <tbody>\n    <tr>\n      <th>0</th>\n      <td>16139</td>\n      <td>727</td>\n      <td>231</td>\n      <td>2021-08-24 00:00:00</td>\n      <td>11.0</td>\n      <td>NaN</td>\n      <td>1</td>\n      <td>9789</td>\n      <td>21</td>\n      <td>False</td>\n      <td>...</td>\n      <td>False</td>\n      <td>False</td>\n      <td>False</td>\n      <td>False</td>\n      <td>NaN</td>\n      <td>2021-08-20 17:44:09.803000</td>\n      <td>231</td>\n      <td>1.0</td>\n      <td>NaN</td>\n      <td>15</td>\n    </tr>\n    <tr>\n      <th>1</th>\n      <td>16139</td>\n      <td>727</td>\n      <td>231</td>\n      <td>2021-08-24 00:00:00</td>\n      <td>11.0</td>\n      <td>NaN</td>\n      <td>1</td>\n      <td>9789</td>\n      <td>21</td>\n      <td>False</td>\n      <td>...</td>\n      <td>False</td>\n      <td>False</td>\n      <td>False</td>\n      <td>False</td>\n      <td>NaN</td>\n      <td>2021-09-22 12:25:38.363000</td>\n      <td>142</td>\n      <td>1.0</td>\n      <td>NaN</td>\n      <td>14</td>\n    </tr>\n    <tr>\n      <th>2</th>\n      <td>16139</td>\n      <td>727</td>\n      <td>231</td>\n      <td>2021-08-24 00:00:00</td>\n      <td>11.0</td>\n      <td>NaN</td>\n      <td>1</td>\n      <td>9789</td>\n      <td>21</td>\n      <td>False</td>\n      <td>...</td>\n      <td>False</td>\n      <td>False</td>\n      <td>False</td>\n      <td>False</td>\n      <td>NaN</td>\n      <td>2021-12-28 15:14:53.953000</td>\n      <td>142</td>\n      <td>9.0</td>\n      <td>NaN</td>\n      <td>15</td>\n    </tr>\n    <tr>\n      <th>3</th>\n      <td>16139</td>\n      <td>727</td>\n      <td>231</td>\n      <td>2021-08-24 00:00:00</td>\n      <td>11.0</td>\n      <td>NaN</td>\n      <td>1</td>\n      <td>9789</td>\n      <td>21</td>\n      <td>False</td>\n      <td>...</td>\n      <td>False</td>\n      <td>False</td>\n      <td>False</td>\n      <td>False</td>\n      <td>NaN</td>\n      <td>2021-12-28 15:21:27.383000</td>\n      <td>231</td>\n      <td>9.0</td>\n      <td>NaN</td>\n      <td>15</td>\n    </tr>\n    <tr>\n      <th>4</th>\n      <td>16139</td>\n      <td>727</td>\n      <td>231</td>\n      <td>2021-08-24 00:00:00</td>\n      <td>11.0</td>\n      <td>NaN</td>\n      <td>1</td>\n      <td>9789</td>\n      <td>21</td>\n      <td>False</td>\n      <td>...</td>\n      <td>False</td>\n      <td>False</td>\n      <td>False</td>\n      <td>False</td>\n      <td>NaN</td>\n      <td>2022-02-09 14:53:07.403000</td>\n      <td>198</td>\n      <td>1.0</td>\n      <td>NaN</td>\n      <td>16</td>\n    </tr>\n    <tr>\n      <th>...</th>\n      <td>...</td>\n      <td>...</td>\n      <td>...</td>\n      <td>...</td>\n      <td>...</td>\n      <td>...</td>\n      <td>...</td>\n      <td>...</td>\n      <td>...</td>\n      <td>...</td>\n      <td>...</td>\n      <td>...</td>\n      <td>...</td>\n      <td>...</td>\n      <td>...</td>\n      <td>...</td>\n      <td>...</td>\n      <td>...</td>\n      <td>...</td>\n      <td>...</td>\n      <td>...</td>\n    </tr>\n    <tr>\n      <th>49084</th>\n      <td>118059</td>\n      <td>1310</td>\n      <td>505</td>\n      <td>2023-03-21 00:00:00</td>\n      <td>21.0</td>\n      <td>NaN</td>\n      <td>1</td>\n      <td>22845</td>\n      <td>32</td>\n      <td>False</td>\n      <td>...</td>\n      <td>False</td>\n      <td>False</td>\n      <td>False</td>\n      <td>False</td>\n      <td>NaN</td>\n      <td>2024-01-16 14:31:41.797000</td>\n      <td>597</td>\n      <td>9.0</td>\n      <td>NaN</td>\n      <td>15</td>\n    </tr>\n    <tr>\n      <th>49085</th>\n      <td>118059</td>\n      <td>1310</td>\n      <td>505</td>\n      <td>2023-03-21 00:00:00</td>\n      <td>21.0</td>\n      <td>NaN</td>\n      <td>1</td>\n      <td>22845</td>\n      <td>32</td>\n      <td>False</td>\n      <td>...</td>\n      <td>False</td>\n      <td>False</td>\n      <td>False</td>\n      <td>False</td>\n      <td>NaN</td>\n      <td>2024-01-16 14:35:21.527000</td>\n      <td>574</td>\n      <td>9.0</td>\n      <td>NaN</td>\n      <td>15</td>\n    </tr>\n    <tr>\n      <th>49086</th>\n      <td>118059</td>\n      <td>1310</td>\n      <td>505</td>\n      <td>2023-03-21 00:00:00</td>\n      <td>21.0</td>\n      <td>NaN</td>\n      <td>1</td>\n      <td>22845</td>\n      <td>32</td>\n      <td>False</td>\n      <td>...</td>\n      <td>False</td>\n      <td>False</td>\n      <td>False</td>\n      <td>False</td>\n      <td>NaN</td>\n      <td>2024-01-26 15:41:33.793000</td>\n      <td>662</td>\n      <td>1.0</td>\n      <td>NaN</td>\n      <td>297</td>\n    </tr>\n    <tr>\n      <th>49087</th>\n      <td>118059</td>\n      <td>1310</td>\n      <td>505</td>\n      <td>2023-03-21 00:00:00</td>\n      <td>21.0</td>\n      <td>NaN</td>\n      <td>1</td>\n      <td>22845</td>\n      <td>32</td>\n      <td>False</td>\n      <td>...</td>\n      <td>False</td>\n      <td>False</td>\n      <td>False</td>\n      <td>False</td>\n      <td>NaN</td>\n      <td>2024-01-26 15:42:12.230000</td>\n      <td>724</td>\n      <td>1.0</td>\n      <td>NaN</td>\n      <td>297</td>\n    </tr>\n    <tr>\n      <th>49088</th>\n      <td>118059</td>\n      <td>1310</td>\n      <td>505</td>\n      <td>2023-03-21 00:00:00</td>\n      <td>21.0</td>\n      <td>NaN</td>\n      <td>1</td>\n      <td>22845</td>\n      <td>32</td>\n      <td>False</td>\n      <td>...</td>\n      <td>False</td>\n      <td>False</td>\n      <td>False</td>\n      <td>False</td>\n      <td>NaN</td>\n      <td>2024-02-02 19:54:20.163000</td>\n      <td>711</td>\n      <td>1.0</td>\n      <td>NaN</td>\n      <td>15</td>\n    </tr>\n  </tbody>\n</table>\n<p>49089 rows × 116 columns</p>\n</div>"
     },
     "execution_count": 35,
     "metadata": {},
     "output_type": "execute_result"
    }
   ],
   "source": [
    "import pandas as pd\n",
    "\n",
    "df_aluno = pd.read_csv('csv_output/Tabelas/TbAluno/Merge/merged_data.csv')\n",
    "df_aluno"
   ]
  },
  {
   "cell_type": "code",
   "outputs": [
    {
     "data": {
      "text/plain": "(49089, 116)"
     },
     "execution_count": 29,
     "metadata": {},
     "output_type": "execute_result"
    }
   ],
   "source": [
    "df_aluno.shape"
   ],
   "metadata": {
    "collapsed": false,
    "ExecuteTime": {
     "end_time": "2024-08-04T15:21:01.252239Z",
     "start_time": "2024-08-04T15:21:01.248794Z"
    }
   },
   "id": "dccd9c9da7830b72",
   "execution_count": 29
  },
  {
   "cell_type": "code",
   "outputs": [
    {
     "data": {
      "text/plain": "    IdTipoOcorrencia  count\n4                 20  10812\n3                 14   8316\n5                 21   8218\n6                 26   7306\n9                 32   5244\n10                35   2975\n8                 30   2496\n2                 13   2414\n1                 12    882\n7                 27    300\n0                 11    126",
      "text/html": "<div>\n<style scoped>\n    .dataframe tbody tr th:only-of-type {\n        vertical-align: middle;\n    }\n\n    .dataframe tbody tr th {\n        vertical-align: top;\n    }\n\n    .dataframe thead th {\n        text-align: right;\n    }\n</style>\n<table border=\"1\" class=\"dataframe\">\n  <thead>\n    <tr style=\"text-align: right;\">\n      <th></th>\n      <th>IdTipoOcorrencia</th>\n      <th>count</th>\n    </tr>\n  </thead>\n  <tbody>\n    <tr>\n      <th>4</th>\n      <td>20</td>\n      <td>10812</td>\n    </tr>\n    <tr>\n      <th>3</th>\n      <td>14</td>\n      <td>8316</td>\n    </tr>\n    <tr>\n      <th>5</th>\n      <td>21</td>\n      <td>8218</td>\n    </tr>\n    <tr>\n      <th>6</th>\n      <td>26</td>\n      <td>7306</td>\n    </tr>\n    <tr>\n      <th>9</th>\n      <td>32</td>\n      <td>5244</td>\n    </tr>\n    <tr>\n      <th>10</th>\n      <td>35</td>\n      <td>2975</td>\n    </tr>\n    <tr>\n      <th>8</th>\n      <td>30</td>\n      <td>2496</td>\n    </tr>\n    <tr>\n      <th>2</th>\n      <td>13</td>\n      <td>2414</td>\n    </tr>\n    <tr>\n      <th>1</th>\n      <td>12</td>\n      <td>882</td>\n    </tr>\n    <tr>\n      <th>7</th>\n      <td>27</td>\n      <td>300</td>\n    </tr>\n    <tr>\n      <th>0</th>\n      <td>11</td>\n      <td>126</td>\n    </tr>\n  </tbody>\n</table>\n</div>"
     },
     "execution_count": 21,
     "metadata": {},
     "output_type": "execute_result"
    }
   ],
   "source": [
    "df_aluno.groupby('IdTipoOcorrencia').size().reset_index(name='count').sort_values(by='count', ascending=False)"
   ],
   "metadata": {
    "collapsed": false,
    "ExecuteTime": {
     "end_time": "2024-08-04T15:11:55.589683Z",
     "start_time": "2024-08-04T15:11:55.585089Z"
    }
   },
   "id": "53f236b9fb9210b5",
   "execution_count": 21
  },
  {
   "cell_type": "markdown",
   "source": [
    "#### Tipo de Ocorrência:\n",
    "- 20: Grupo 2 - Ansiedade (Angústia) HD\n",
    "- 14: Grupo 6 - Baixa concentração/ Falta de Foco\n",
    "- 21: Grupo 4 - Vulnerabilidade emocional"
   ],
   "metadata": {
    "collapsed": false
   },
   "id": "7f49820414664a01"
  },
  {
   "cell_type": "code",
   "outputs": [
    {
     "data": {
      "text/plain": "   IdSituacaoAlunoTurma_x  count\n1                       9  43418\n0                       1   4005\n2                      14   1594\n3                      19     72",
      "text/html": "<div>\n<style scoped>\n    .dataframe tbody tr th:only-of-type {\n        vertical-align: middle;\n    }\n\n    .dataframe tbody tr th {\n        vertical-align: top;\n    }\n\n    .dataframe thead th {\n        text-align: right;\n    }\n</style>\n<table border=\"1\" class=\"dataframe\">\n  <thead>\n    <tr style=\"text-align: right;\">\n      <th></th>\n      <th>IdSituacaoAlunoTurma_x</th>\n      <th>count</th>\n    </tr>\n  </thead>\n  <tbody>\n    <tr>\n      <th>1</th>\n      <td>9</td>\n      <td>43418</td>\n    </tr>\n    <tr>\n      <th>0</th>\n      <td>1</td>\n      <td>4005</td>\n    </tr>\n    <tr>\n      <th>2</th>\n      <td>14</td>\n      <td>1594</td>\n    </tr>\n    <tr>\n      <th>3</th>\n      <td>19</td>\n      <td>72</td>\n    </tr>\n  </tbody>\n</table>\n</div>"
     },
     "execution_count": 25,
     "metadata": {},
     "output_type": "execute_result"
    }
   ],
   "source": [
    "df_aluno.groupby('IdSituacaoAlunoTurma_x').size().reset_index(name='count').sort_values(by='count', ascending=False)"
   ],
   "metadata": {
    "collapsed": false,
    "ExecuteTime": {
     "end_time": "2024-08-04T15:13:32.629100Z",
     "start_time": "2024-08-04T15:13:32.624393Z"
    }
   },
   "id": "6d70f02bb782c59e",
   "execution_count": 25
  },
  {
   "cell_type": "markdown",
   "source": [
    "#### Situação:\n",
    "- 9: Passou de ano, troca de fase anual\n",
    "- 14: Desistente"
   ],
   "metadata": {
    "collapsed": false
   },
   "id": "b367cbbbb5e8a44a"
  },
  {
   "cell_type": "code",
   "outputs": [
    {
     "data": {
      "text/plain": "   IdSituacaoAlunoTurma_y  count\n0                     1.0  25394\n2                     9.0  15333\n3                    14.0    703\n1                     5.0     28\n4                    19.0     28",
      "text/html": "<div>\n<style scoped>\n    .dataframe tbody tr th:only-of-type {\n        vertical-align: middle;\n    }\n\n    .dataframe tbody tr th {\n        vertical-align: top;\n    }\n\n    .dataframe thead th {\n        text-align: right;\n    }\n</style>\n<table border=\"1\" class=\"dataframe\">\n  <thead>\n    <tr style=\"text-align: right;\">\n      <th></th>\n      <th>IdSituacaoAlunoTurma_y</th>\n      <th>count</th>\n    </tr>\n  </thead>\n  <tbody>\n    <tr>\n      <th>0</th>\n      <td>1.0</td>\n      <td>25394</td>\n    </tr>\n    <tr>\n      <th>2</th>\n      <td>9.0</td>\n      <td>15333</td>\n    </tr>\n    <tr>\n      <th>3</th>\n      <td>14.0</td>\n      <td>703</td>\n    </tr>\n    <tr>\n      <th>1</th>\n      <td>5.0</td>\n      <td>28</td>\n    </tr>\n    <tr>\n      <th>4</th>\n      <td>19.0</td>\n      <td>28</td>\n    </tr>\n  </tbody>\n</table>\n</div>"
     },
     "execution_count": 30,
     "metadata": {},
     "output_type": "execute_result"
    }
   ],
   "source": [
    "df_aluno.groupby('IdSituacaoAlunoTurma_y').size().reset_index(name='count').sort_values(by='count', ascending=False)\n"
   ],
   "metadata": {
    "collapsed": false,
    "ExecuteTime": {
     "end_time": "2024-08-04T15:23:41.020472Z",
     "start_time": "2024-08-04T15:23:41.015676Z"
    }
   },
   "id": "c1992c49181bc4e0",
   "execution_count": 30
  },
  {
   "cell_type": "code",
   "outputs": [
    {
     "data": {
      "text/plain": "IdAluno  IdSituacaoAlunoTurma_x\n727      1                          2125\n         9                         12750\n740      9                           300\n747      9                           800\n         14                          400\n773      9                         20412\n1147     1                          1664\n         9                          8320\n1174     9                           620\n         14                          930\n1267     14                          264\n1310     1                           216\n         9                           216\n         19                           72\ndtype: int64"
     },
     "execution_count": 34,
     "metadata": {},
     "output_type": "execute_result"
    }
   ],
   "source": [
    "df_aluno.groupby(['IdAluno', 'IdSituacaoAlunoTurma_x']).size()\n",
    "## wtf, tem aluno com 13k situacoes??\n"
   ],
   "metadata": {
    "collapsed": false,
    "ExecuteTime": {
     "end_time": "2024-08-04T15:42:15.669426Z",
     "start_time": "2024-08-04T15:42:15.664850Z"
    }
   },
   "id": "1316c61b0637ab8b",
   "execution_count": 34
  },
  {
   "cell_type": "markdown",
   "source": [
    "### Conclusões iniciais\n",
    "\n",
    "#### Situação:\n",
    "- 9: Passou de ano, troca de fase anual\n",
    "- 14: Desistente\n",
    "\n",
    "#### Tipo de Ocorrência:\n",
    "- 20: Grupo 2 - Ansiedade (Angústia) HD\n",
    "- 14: Grupo 6 - Baixa concentração/ Falta de Foco\n",
    "- 21: Grupo 4 - Vulnerabilidade emocional\n",
    "- -99: Falta Justificada\n",
    "\n",
    "**Não podemos confiar na tabela csv_output/Tabelas/TbAluno/Merge/merged_data.csv**"
   ],
   "metadata": {
    "collapsed": false
   },
   "id": "28013a5372e0cee5"
  },
  {
   "cell_type": "code",
   "outputs": [
    {
     "data": {
      "text/plain": "      IdAluno   NomeAluno  NomeAbreviado  IdUnidade Sexo  EstadoCivil  \\\n0           3     Aluno 1            NaN        1.0    F          5.0   \n1           4     Aluno 2            NaN        1.0    F          5.0   \n2           5     Aluno 3            NaN        1.0    F          5.0   \n3           6     Aluno 4            NaN        1.0    M          5.0   \n4           7     Aluno 5            NaN        1.0    M          5.0   \n...       ...         ...            ...        ...  ...          ...   \n2233     2258  Aluno 2234            NaN        1.0    M          5.0   \n2234     2259  Aluno 2235            NaN        1.0    M          5.0   \n2235     2260  Aluno 2236            NaN        1.0    F          5.0   \n2236     2261  Aluno 2237            NaN        1.0    M          5.0   \n2237     2262  Aluno 2238            NaN        1.0    M          5.0   \n\n           DataNascimento   IdPai IdMae  IdResponsavel  ...  \\\n0     2005-03-29 03:00:00     NaN     5            5.0  ...   \n1     2004-11-04 02:00:00     6.0   NaN            6.0  ...   \n2     2002-01-25 02:00:00     NaN   NaN            7.0  ...   \n3     2002-10-07 03:00:00     NaN     8            8.0  ...   \n4     2002-12-23 02:00:00     NaN     9            9.0  ...   \n...                   ...     ...   ...            ...  ...   \n2233  2009-05-04 00:00:00     NaN   NaN         1559.0  ...   \n2234  2009-10-21 00:00:00     NaN   NaN         1559.0  ...   \n2235  2008-03-12 00:00:00     NaN   NaN         1559.0  ...   \n2236  2014-05-15 00:00:00     NaN   NaN         1559.0  ...   \n2237  2015-01-27 00:00:00  1769.0   NaN         1769.0  ...   \n\n      StRecursoLeituraLabial StRecursoMaterialDidaticoProvaBraille  \\\n0                      False                                 False   \n1                      False                                 False   \n2                      False                                 False   \n3                      False                                 False   \n4                      False                                 False   \n...                      ...                                   ...   \n2233                   False                                 False   \n2234                   False                                 False   \n2235                   False                                 False   \n2236                   False                                 False   \n2237                   False                                 False   \n\n     StRecursoProvaAmpliada  StRecursoProvaSuperampliada  StRecursoCdComAudio  \\\n0                     False                        False                False   \n1                     False                        False                False   \n2                     False                        False                False   \n3                     False                        False                False   \n4                     False                        False                False   \n...                     ...                          ...                  ...   \n2233                  False                        False                False   \n2234                  False                        False                False   \n2235                  False                        False                False   \n2236                  False                        False                False   \n2237                  False                        False                False   \n\n      StRecursoLinguaPortuguesaSegundaLingua  StRecursoProvaEmVideo  \\\n0                                      False                  False   \n1                                      False                  False   \n2                                      False                  False   \n3                                      False                  False   \n4                                      False                  False   \n...                                      ...                    ...   \n2233                                   False                  False   \n2234                                   False                  False   \n2235                                   False                  False   \n2236                                   False                  False   \n2237                                   False                  False   \n\n      StPermiteUsoImagem  StEstrangeiro  Unnamed: 55  \n0                  False          False          NaN  \n1                  False          False          NaN  \n2                  False          False          NaN  \n3                  False          False          NaN  \n4                  False          False          NaN  \n...                  ...            ...          ...  \n2233               False          False          NaN  \n2234               False          False          NaN  \n2235               False          False          NaN  \n2236               False          False          NaN  \n2237               False          False          NaN  \n\n[2238 rows x 56 columns]",
      "text/html": "<div>\n<style scoped>\n    .dataframe tbody tr th:only-of-type {\n        vertical-align: middle;\n    }\n\n    .dataframe tbody tr th {\n        vertical-align: top;\n    }\n\n    .dataframe thead th {\n        text-align: right;\n    }\n</style>\n<table border=\"1\" class=\"dataframe\">\n  <thead>\n    <tr style=\"text-align: right;\">\n      <th></th>\n      <th>IdAluno</th>\n      <th>NomeAluno</th>\n      <th>NomeAbreviado</th>\n      <th>IdUnidade</th>\n      <th>Sexo</th>\n      <th>EstadoCivil</th>\n      <th>DataNascimento</th>\n      <th>IdPai</th>\n      <th>IdMae</th>\n      <th>IdResponsavel</th>\n      <th>...</th>\n      <th>StRecursoLeituraLabial</th>\n      <th>StRecursoMaterialDidaticoProvaBraille</th>\n      <th>StRecursoProvaAmpliada</th>\n      <th>StRecursoProvaSuperampliada</th>\n      <th>StRecursoCdComAudio</th>\n      <th>StRecursoLinguaPortuguesaSegundaLingua</th>\n      <th>StRecursoProvaEmVideo</th>\n      <th>StPermiteUsoImagem</th>\n      <th>StEstrangeiro</th>\n      <th>Unnamed: 55</th>\n    </tr>\n  </thead>\n  <tbody>\n    <tr>\n      <th>0</th>\n      <td>3</td>\n      <td>Aluno 1</td>\n      <td>NaN</td>\n      <td>1.0</td>\n      <td>F</td>\n      <td>5.0</td>\n      <td>2005-03-29 03:00:00</td>\n      <td>NaN</td>\n      <td>5</td>\n      <td>5.0</td>\n      <td>...</td>\n      <td>False</td>\n      <td>False</td>\n      <td>False</td>\n      <td>False</td>\n      <td>False</td>\n      <td>False</td>\n      <td>False</td>\n      <td>False</td>\n      <td>False</td>\n      <td>NaN</td>\n    </tr>\n    <tr>\n      <th>1</th>\n      <td>4</td>\n      <td>Aluno 2</td>\n      <td>NaN</td>\n      <td>1.0</td>\n      <td>F</td>\n      <td>5.0</td>\n      <td>2004-11-04 02:00:00</td>\n      <td>6.0</td>\n      <td>NaN</td>\n      <td>6.0</td>\n      <td>...</td>\n      <td>False</td>\n      <td>False</td>\n      <td>False</td>\n      <td>False</td>\n      <td>False</td>\n      <td>False</td>\n      <td>False</td>\n      <td>False</td>\n      <td>False</td>\n      <td>NaN</td>\n    </tr>\n    <tr>\n      <th>2</th>\n      <td>5</td>\n      <td>Aluno 3</td>\n      <td>NaN</td>\n      <td>1.0</td>\n      <td>F</td>\n      <td>5.0</td>\n      <td>2002-01-25 02:00:00</td>\n      <td>NaN</td>\n      <td>NaN</td>\n      <td>7.0</td>\n      <td>...</td>\n      <td>False</td>\n      <td>False</td>\n      <td>False</td>\n      <td>False</td>\n      <td>False</td>\n      <td>False</td>\n      <td>False</td>\n      <td>False</td>\n      <td>False</td>\n      <td>NaN</td>\n    </tr>\n    <tr>\n      <th>3</th>\n      <td>6</td>\n      <td>Aluno 4</td>\n      <td>NaN</td>\n      <td>1.0</td>\n      <td>M</td>\n      <td>5.0</td>\n      <td>2002-10-07 03:00:00</td>\n      <td>NaN</td>\n      <td>8</td>\n      <td>8.0</td>\n      <td>...</td>\n      <td>False</td>\n      <td>False</td>\n      <td>False</td>\n      <td>False</td>\n      <td>False</td>\n      <td>False</td>\n      <td>False</td>\n      <td>False</td>\n      <td>False</td>\n      <td>NaN</td>\n    </tr>\n    <tr>\n      <th>4</th>\n      <td>7</td>\n      <td>Aluno 5</td>\n      <td>NaN</td>\n      <td>1.0</td>\n      <td>M</td>\n      <td>5.0</td>\n      <td>2002-12-23 02:00:00</td>\n      <td>NaN</td>\n      <td>9</td>\n      <td>9.0</td>\n      <td>...</td>\n      <td>False</td>\n      <td>False</td>\n      <td>False</td>\n      <td>False</td>\n      <td>False</td>\n      <td>False</td>\n      <td>False</td>\n      <td>False</td>\n      <td>False</td>\n      <td>NaN</td>\n    </tr>\n    <tr>\n      <th>...</th>\n      <td>...</td>\n      <td>...</td>\n      <td>...</td>\n      <td>...</td>\n      <td>...</td>\n      <td>...</td>\n      <td>...</td>\n      <td>...</td>\n      <td>...</td>\n      <td>...</td>\n      <td>...</td>\n      <td>...</td>\n      <td>...</td>\n      <td>...</td>\n      <td>...</td>\n      <td>...</td>\n      <td>...</td>\n      <td>...</td>\n      <td>...</td>\n      <td>...</td>\n      <td>...</td>\n    </tr>\n    <tr>\n      <th>2233</th>\n      <td>2258</td>\n      <td>Aluno 2234</td>\n      <td>NaN</td>\n      <td>1.0</td>\n      <td>M</td>\n      <td>5.0</td>\n      <td>2009-05-04 00:00:00</td>\n      <td>NaN</td>\n      <td>NaN</td>\n      <td>1559.0</td>\n      <td>...</td>\n      <td>False</td>\n      <td>False</td>\n      <td>False</td>\n      <td>False</td>\n      <td>False</td>\n      <td>False</td>\n      <td>False</td>\n      <td>False</td>\n      <td>False</td>\n      <td>NaN</td>\n    </tr>\n    <tr>\n      <th>2234</th>\n      <td>2259</td>\n      <td>Aluno 2235</td>\n      <td>NaN</td>\n      <td>1.0</td>\n      <td>M</td>\n      <td>5.0</td>\n      <td>2009-10-21 00:00:00</td>\n      <td>NaN</td>\n      <td>NaN</td>\n      <td>1559.0</td>\n      <td>...</td>\n      <td>False</td>\n      <td>False</td>\n      <td>False</td>\n      <td>False</td>\n      <td>False</td>\n      <td>False</td>\n      <td>False</td>\n      <td>False</td>\n      <td>False</td>\n      <td>NaN</td>\n    </tr>\n    <tr>\n      <th>2235</th>\n      <td>2260</td>\n      <td>Aluno 2236</td>\n      <td>NaN</td>\n      <td>1.0</td>\n      <td>F</td>\n      <td>5.0</td>\n      <td>2008-03-12 00:00:00</td>\n      <td>NaN</td>\n      <td>NaN</td>\n      <td>1559.0</td>\n      <td>...</td>\n      <td>False</td>\n      <td>False</td>\n      <td>False</td>\n      <td>False</td>\n      <td>False</td>\n      <td>False</td>\n      <td>False</td>\n      <td>False</td>\n      <td>False</td>\n      <td>NaN</td>\n    </tr>\n    <tr>\n      <th>2236</th>\n      <td>2261</td>\n      <td>Aluno 2237</td>\n      <td>NaN</td>\n      <td>1.0</td>\n      <td>M</td>\n      <td>5.0</td>\n      <td>2014-05-15 00:00:00</td>\n      <td>NaN</td>\n      <td>NaN</td>\n      <td>1559.0</td>\n      <td>...</td>\n      <td>False</td>\n      <td>False</td>\n      <td>False</td>\n      <td>False</td>\n      <td>False</td>\n      <td>False</td>\n      <td>False</td>\n      <td>False</td>\n      <td>False</td>\n      <td>NaN</td>\n    </tr>\n    <tr>\n      <th>2237</th>\n      <td>2262</td>\n      <td>Aluno 2238</td>\n      <td>NaN</td>\n      <td>1.0</td>\n      <td>M</td>\n      <td>5.0</td>\n      <td>2015-01-27 00:00:00</td>\n      <td>1769.0</td>\n      <td>NaN</td>\n      <td>1769.0</td>\n      <td>...</td>\n      <td>False</td>\n      <td>False</td>\n      <td>False</td>\n      <td>False</td>\n      <td>False</td>\n      <td>False</td>\n      <td>False</td>\n      <td>False</td>\n      <td>False</td>\n      <td>NaN</td>\n    </tr>\n  </tbody>\n</table>\n<p>2238 rows × 56 columns</p>\n</div>"
     },
     "execution_count": 37,
     "metadata": {},
     "output_type": "execute_result"
    }
   ],
   "source": [
    "df_aluno_raw = pd.read_csv('csv_output/Tabelas/TbAluno/Originais anonimizados/TbAluno.csv')\n",
    "df_aluno_raw"
   ],
   "metadata": {
    "collapsed": false,
    "ExecuteTime": {
     "end_time": "2024-08-04T15:48:37.766951Z",
     "start_time": "2024-08-04T15:48:37.751521Z"
    }
   },
   "id": "d29b75499c9bf7c4",
   "execution_count": 37
  },
  {
   "cell_type": "code",
   "outputs": [
    {
     "data": {
      "text/plain": "       IdAluno  IdAlunoObs  IdTipoOcorrencia  StImpedimento  \\\n0            2           1                10          False   \n1          145           2                12          False   \n2          146           3                12          False   \n3          456           4                12          False   \n4          119           5                12          False   \n...        ...         ...               ...            ...   \n26424      360       26595                37          False   \n26425      360       26596                37          False   \n26426     2177       26597                37          False   \n26427      899       26598               -99          False   \n26428      674       26599               -99          False   \n\n            DataOcorrencia  IdUsuarioRegistro  \\\n0      2021-07-26 00:00:00                 13   \n1      2021-08-18 00:00:00                 15   \n2      2021-08-18 00:00:00                 15   \n3      2021-08-24 00:00:00                 15   \n4      2021-08-24 00:00:00                 15   \n...                    ...                ...   \n26424  2024-04-10 00:00:00                316   \n26425  2024-06-19 00:00:00                316   \n26426  2024-07-03 00:00:00                316   \n26427  2024-07-05 00:00:00                297   \n26428  2024-07-05 00:00:00                297   \n\n                                      ObservacaoRegistro  DataLiberacao  \\\n0                 O aluno tem dificuldades com o horário            NaN   \n1      Aluno foi transferido da Turma 4A para a 4F, p...            NaN   \n2      Aluno foi transferido da Turma 4G para a 4F, p...            NaN   \n3      Transferido da 2C para a 2J  devido a mudança ...            NaN   \n4      Aluna já estava assistindo as aulas da turma 5...            NaN   \n...                                                  ...            ...   \n26424  2 parte do Livro: Como criar filhos compassiva...            NaN   \n26425                           Livro: A parte que falta            NaN   \n26426  Palestra sobre a importância do Brincar com a ...            NaN   \n26427  o interclasse no dia 27/06 no horário das 07h3...            NaN   \n26428  Falta justificada 27/06 (Inglês Canada )- Jogo...            NaN   \n\n       IdUsuarioLiberacao  ObservacaoLiberacao         DataInclusao  \\\n0                     NaN                  NaN  2021-07-26 19:30:00   \n1                     NaN                  NaN  2021-08-18 15:19:00   \n2                     NaN                  NaN  2021-08-18 15:20:00   \n3                     NaN                  NaN  2021-08-24 17:01:00   \n4                     NaN                  NaN  2021-08-24 17:10:00   \n...                   ...                  ...                  ...   \n26424                 NaN                  NaN  2024-07-02 22:45:00   \n26425                 NaN                  NaN  2024-07-02 22:46:00   \n26426                 NaN                  NaN  2024-07-03 11:07:00   \n26427                 NaN                  NaN  2024-07-05 09:48:00   \n26428                 NaN                  NaN  2024-07-05 10:39:00   \n\n       StExibirInternet  IdProfessorRegistro  DataInicialAtestado  \\\n0                 False                  NaN                  NaN   \n1                  True                  NaN                  NaN   \n2                 False                  NaN                  NaN   \n3                  True                  NaN                  NaN   \n4                  True                  NaN                  NaN   \n...                 ...                  ...                  ...   \n26424             False                  NaN                  NaN   \n26425             False                  NaN                  NaN   \n26426             False                  NaN                  NaN   \n26427             False                  NaN  2024-06-27 00:00:00   \n26428             False                  NaN  2024-06-27 00:00:00   \n\n         DataFinalAtestado  \n0                      NaN  \n1                      NaN  \n2                      NaN  \n3                      NaN  \n4                      NaN  \n...                    ...  \n26424                  NaN  \n26425                  NaN  \n26426                  NaN  \n26427  2024-06-27 23:59:00  \n26428  2024-06-27 00:00:00  \n\n[26429 rows x 15 columns]",
      "text/html": "<div>\n<style scoped>\n    .dataframe tbody tr th:only-of-type {\n        vertical-align: middle;\n    }\n\n    .dataframe tbody tr th {\n        vertical-align: top;\n    }\n\n    .dataframe thead th {\n        text-align: right;\n    }\n</style>\n<table border=\"1\" class=\"dataframe\">\n  <thead>\n    <tr style=\"text-align: right;\">\n      <th></th>\n      <th>IdAluno</th>\n      <th>IdAlunoObs</th>\n      <th>IdTipoOcorrencia</th>\n      <th>StImpedimento</th>\n      <th>DataOcorrencia</th>\n      <th>IdUsuarioRegistro</th>\n      <th>ObservacaoRegistro</th>\n      <th>DataLiberacao</th>\n      <th>IdUsuarioLiberacao</th>\n      <th>ObservacaoLiberacao</th>\n      <th>DataInclusao</th>\n      <th>StExibirInternet</th>\n      <th>IdProfessorRegistro</th>\n      <th>DataInicialAtestado</th>\n      <th>DataFinalAtestado</th>\n    </tr>\n  </thead>\n  <tbody>\n    <tr>\n      <th>0</th>\n      <td>2</td>\n      <td>1</td>\n      <td>10</td>\n      <td>False</td>\n      <td>2021-07-26 00:00:00</td>\n      <td>13</td>\n      <td>O aluno tem dificuldades com o horário</td>\n      <td>NaN</td>\n      <td>NaN</td>\n      <td>NaN</td>\n      <td>2021-07-26 19:30:00</td>\n      <td>False</td>\n      <td>NaN</td>\n      <td>NaN</td>\n      <td>NaN</td>\n    </tr>\n    <tr>\n      <th>1</th>\n      <td>145</td>\n      <td>2</td>\n      <td>12</td>\n      <td>False</td>\n      <td>2021-08-18 00:00:00</td>\n      <td>15</td>\n      <td>Aluno foi transferido da Turma 4A para a 4F, p...</td>\n      <td>NaN</td>\n      <td>NaN</td>\n      <td>NaN</td>\n      <td>2021-08-18 15:19:00</td>\n      <td>True</td>\n      <td>NaN</td>\n      <td>NaN</td>\n      <td>NaN</td>\n    </tr>\n    <tr>\n      <th>2</th>\n      <td>146</td>\n      <td>3</td>\n      <td>12</td>\n      <td>False</td>\n      <td>2021-08-18 00:00:00</td>\n      <td>15</td>\n      <td>Aluno foi transferido da Turma 4G para a 4F, p...</td>\n      <td>NaN</td>\n      <td>NaN</td>\n      <td>NaN</td>\n      <td>2021-08-18 15:20:00</td>\n      <td>False</td>\n      <td>NaN</td>\n      <td>NaN</td>\n      <td>NaN</td>\n    </tr>\n    <tr>\n      <th>3</th>\n      <td>456</td>\n      <td>4</td>\n      <td>12</td>\n      <td>False</td>\n      <td>2021-08-24 00:00:00</td>\n      <td>15</td>\n      <td>Transferido da 2C para a 2J  devido a mudança ...</td>\n      <td>NaN</td>\n      <td>NaN</td>\n      <td>NaN</td>\n      <td>2021-08-24 17:01:00</td>\n      <td>True</td>\n      <td>NaN</td>\n      <td>NaN</td>\n      <td>NaN</td>\n    </tr>\n    <tr>\n      <th>4</th>\n      <td>119</td>\n      <td>5</td>\n      <td>12</td>\n      <td>False</td>\n      <td>2021-08-24 00:00:00</td>\n      <td>15</td>\n      <td>Aluna já estava assistindo as aulas da turma 5...</td>\n      <td>NaN</td>\n      <td>NaN</td>\n      <td>NaN</td>\n      <td>2021-08-24 17:10:00</td>\n      <td>True</td>\n      <td>NaN</td>\n      <td>NaN</td>\n      <td>NaN</td>\n    </tr>\n    <tr>\n      <th>...</th>\n      <td>...</td>\n      <td>...</td>\n      <td>...</td>\n      <td>...</td>\n      <td>...</td>\n      <td>...</td>\n      <td>...</td>\n      <td>...</td>\n      <td>...</td>\n      <td>...</td>\n      <td>...</td>\n      <td>...</td>\n      <td>...</td>\n      <td>...</td>\n      <td>...</td>\n    </tr>\n    <tr>\n      <th>26424</th>\n      <td>360</td>\n      <td>26595</td>\n      <td>37</td>\n      <td>False</td>\n      <td>2024-04-10 00:00:00</td>\n      <td>316</td>\n      <td>2 parte do Livro: Como criar filhos compassiva...</td>\n      <td>NaN</td>\n      <td>NaN</td>\n      <td>NaN</td>\n      <td>2024-07-02 22:45:00</td>\n      <td>False</td>\n      <td>NaN</td>\n      <td>NaN</td>\n      <td>NaN</td>\n    </tr>\n    <tr>\n      <th>26425</th>\n      <td>360</td>\n      <td>26596</td>\n      <td>37</td>\n      <td>False</td>\n      <td>2024-06-19 00:00:00</td>\n      <td>316</td>\n      <td>Livro: A parte que falta</td>\n      <td>NaN</td>\n      <td>NaN</td>\n      <td>NaN</td>\n      <td>2024-07-02 22:46:00</td>\n      <td>False</td>\n      <td>NaN</td>\n      <td>NaN</td>\n      <td>NaN</td>\n    </tr>\n    <tr>\n      <th>26426</th>\n      <td>2177</td>\n      <td>26597</td>\n      <td>37</td>\n      <td>False</td>\n      <td>2024-07-03 00:00:00</td>\n      <td>316</td>\n      <td>Palestra sobre a importância do Brincar com a ...</td>\n      <td>NaN</td>\n      <td>NaN</td>\n      <td>NaN</td>\n      <td>2024-07-03 11:07:00</td>\n      <td>False</td>\n      <td>NaN</td>\n      <td>NaN</td>\n      <td>NaN</td>\n    </tr>\n    <tr>\n      <th>26427</th>\n      <td>899</td>\n      <td>26598</td>\n      <td>-99</td>\n      <td>False</td>\n      <td>2024-07-05 00:00:00</td>\n      <td>297</td>\n      <td>o interclasse no dia 27/06 no horário das 07h3...</td>\n      <td>NaN</td>\n      <td>NaN</td>\n      <td>NaN</td>\n      <td>2024-07-05 09:48:00</td>\n      <td>False</td>\n      <td>NaN</td>\n      <td>2024-06-27 00:00:00</td>\n      <td>2024-06-27 23:59:00</td>\n    </tr>\n    <tr>\n      <th>26428</th>\n      <td>674</td>\n      <td>26599</td>\n      <td>-99</td>\n      <td>False</td>\n      <td>2024-07-05 00:00:00</td>\n      <td>297</td>\n      <td>Falta justificada 27/06 (Inglês Canada )- Jogo...</td>\n      <td>NaN</td>\n      <td>NaN</td>\n      <td>NaN</td>\n      <td>2024-07-05 10:39:00</td>\n      <td>False</td>\n      <td>NaN</td>\n      <td>2024-06-27 00:00:00</td>\n      <td>2024-06-27 00:00:00</td>\n    </tr>\n  </tbody>\n</table>\n<p>26429 rows × 15 columns</p>\n</div>"
     },
     "execution_count": 39,
     "metadata": {},
     "output_type": "execute_result"
    }
   ],
   "source": [
    "df_ocorrencia_raw = pd.read_csv('csv_output/Tabelas/TbAluno/Originais anonimizados/TbAlunoObs.csv')\n",
    "df_ocorrencia_raw"
   ],
   "metadata": {
    "collapsed": false,
    "ExecuteTime": {
     "end_time": "2024-08-04T15:49:52.629348Z",
     "start_time": "2024-08-04T15:49:52.583889Z"
    }
   },
   "id": "ab5ebbae1aa4a4ba",
   "execution_count": 39
  },
  {
   "cell_type": "code",
   "outputs": [
    {
     "data": {
      "text/plain": "    IdTipoOcorrencia  count\n21                31  11315\n11                20   2693\n14                24   2500\n0                -99   1996\n20                30   1822\n23                33   1197\n5                 12    749\n6                 13    742\n22                32    574\n9                 17    378\n26                37    351\n16                26    331\n7                 14    263\n13                22    245\n12                21    235\n10                18    221\n24                34    179\n4                 11    166\n17                27    156\n8                 15     69\n15                25     49\n2                  8     49\n25                35     28\n28                41     25\n31                45     24\n27                38     20\n1                  6     13\n19                29     12\n29                42     10\n18                28      8\n30                43      6\n3                 10      3",
      "text/html": "<div>\n<style scoped>\n    .dataframe tbody tr th:only-of-type {\n        vertical-align: middle;\n    }\n\n    .dataframe tbody tr th {\n        vertical-align: top;\n    }\n\n    .dataframe thead th {\n        text-align: right;\n    }\n</style>\n<table border=\"1\" class=\"dataframe\">\n  <thead>\n    <tr style=\"text-align: right;\">\n      <th></th>\n      <th>IdTipoOcorrencia</th>\n      <th>count</th>\n    </tr>\n  </thead>\n  <tbody>\n    <tr>\n      <th>21</th>\n      <td>31</td>\n      <td>11315</td>\n    </tr>\n    <tr>\n      <th>11</th>\n      <td>20</td>\n      <td>2693</td>\n    </tr>\n    <tr>\n      <th>14</th>\n      <td>24</td>\n      <td>2500</td>\n    </tr>\n    <tr>\n      <th>0</th>\n      <td>-99</td>\n      <td>1996</td>\n    </tr>\n    <tr>\n      <th>20</th>\n      <td>30</td>\n      <td>1822</td>\n    </tr>\n    <tr>\n      <th>23</th>\n      <td>33</td>\n      <td>1197</td>\n    </tr>\n    <tr>\n      <th>5</th>\n      <td>12</td>\n      <td>749</td>\n    </tr>\n    <tr>\n      <th>6</th>\n      <td>13</td>\n      <td>742</td>\n    </tr>\n    <tr>\n      <th>22</th>\n      <td>32</td>\n      <td>574</td>\n    </tr>\n    <tr>\n      <th>9</th>\n      <td>17</td>\n      <td>378</td>\n    </tr>\n    <tr>\n      <th>26</th>\n      <td>37</td>\n      <td>351</td>\n    </tr>\n    <tr>\n      <th>16</th>\n      <td>26</td>\n      <td>331</td>\n    </tr>\n    <tr>\n      <th>7</th>\n      <td>14</td>\n      <td>263</td>\n    </tr>\n    <tr>\n      <th>13</th>\n      <td>22</td>\n      <td>245</td>\n    </tr>\n    <tr>\n      <th>12</th>\n      <td>21</td>\n      <td>235</td>\n    </tr>\n    <tr>\n      <th>10</th>\n      <td>18</td>\n      <td>221</td>\n    </tr>\n    <tr>\n      <th>24</th>\n      <td>34</td>\n      <td>179</td>\n    </tr>\n    <tr>\n      <th>4</th>\n      <td>11</td>\n      <td>166</td>\n    </tr>\n    <tr>\n      <th>17</th>\n      <td>27</td>\n      <td>156</td>\n    </tr>\n    <tr>\n      <th>8</th>\n      <td>15</td>\n      <td>69</td>\n    </tr>\n    <tr>\n      <th>15</th>\n      <td>25</td>\n      <td>49</td>\n    </tr>\n    <tr>\n      <th>2</th>\n      <td>8</td>\n      <td>49</td>\n    </tr>\n    <tr>\n      <th>25</th>\n      <td>35</td>\n      <td>28</td>\n    </tr>\n    <tr>\n      <th>28</th>\n      <td>41</td>\n      <td>25</td>\n    </tr>\n    <tr>\n      <th>31</th>\n      <td>45</td>\n      <td>24</td>\n    </tr>\n    <tr>\n      <th>27</th>\n      <td>38</td>\n      <td>20</td>\n    </tr>\n    <tr>\n      <th>1</th>\n      <td>6</td>\n      <td>13</td>\n    </tr>\n    <tr>\n      <th>19</th>\n      <td>29</td>\n      <td>12</td>\n    </tr>\n    <tr>\n      <th>29</th>\n      <td>42</td>\n      <td>10</td>\n    </tr>\n    <tr>\n      <th>18</th>\n      <td>28</td>\n      <td>8</td>\n    </tr>\n    <tr>\n      <th>30</th>\n      <td>43</td>\n      <td>6</td>\n    </tr>\n    <tr>\n      <th>3</th>\n      <td>10</td>\n      <td>3</td>\n    </tr>\n  </tbody>\n</table>\n</div>"
     },
     "execution_count": 42,
     "metadata": {},
     "output_type": "execute_result"
    }
   ],
   "source": [
    "df_ocorrencia_raw.groupby(['IdTipoOcorrencia']).size().reset_index(name='count').sort_values(by='count', ascending=False)"
   ],
   "metadata": {
    "collapsed": false,
    "ExecuteTime": {
     "end_time": "2024-08-04T15:50:51.931666Z",
     "start_time": "2024-08-04T15:50:51.926832Z"
    }
   },
   "id": "d953f5109cd30f20",
   "execution_count": 42
  },
  {
   "cell_type": "markdown",
   "source": [
    "#### Tipo de Ocorrência:\n",
    "- 20: Grupo 2 - Ansiedade (Angústia) HD\n",
    "- 14: Grupo 6 - Baixa concentração/ Falta de Foco\n",
    "- 21: Grupo 4 - Vulnerabilidade emocional\n",
    "- -99: Falta Justificada"
   ],
   "metadata": {
    "collapsed": false
   },
   "id": "8f7873b2263a1afd"
  },
  {
   "cell_type": "code",
   "outputs": [
    {
     "data": {
      "text/plain": "       IdAluno              DataOcorrencia  IdTurma  IdSituacaoAlunoTurma  \\\n0            1  2022-02-14 14:21:16.343000      275                   1.0   \n1            1  2022-02-21 17:14:02.880000      275                   NaN   \n2            2  2020-06-23 09:23:28.770000       35                   1.0   \n3            2  2021-07-21 16:57:05.170000       53                   1.0   \n4            2  2021-07-22 16:33:40.257000       53                   9.0   \n...        ...                         ...      ...                   ...   \n24063     2259  2024-06-27 15:12:47.553000      715                   5.0   \n24064     2260  2024-06-27 16:35:01.807000      661                   5.0   \n24065     2260  2024-06-27 16:35:30.767000      683                   5.0   \n24066     2261  2024-06-27 17:09:24.367000      619                   5.0   \n24067     2262  2024-06-27 17:51:59.763000      616                   5.0   \n\n       IdFaseNotaInicial  IdUsuario  \n0                    NaN        299  \n1                    NaN        299  \n2                    NaN         11  \n3                    NaN         13  \n4                    NaN         13  \n...                  ...        ...  \n24063                NaN        313  \n24064                NaN        313  \n24065                NaN        313  \n24066                NaN        313  \n24067                NaN        313  \n\n[24068 rows x 6 columns]",
      "text/html": "<div>\n<style scoped>\n    .dataframe tbody tr th:only-of-type {\n        vertical-align: middle;\n    }\n\n    .dataframe tbody tr th {\n        vertical-align: top;\n    }\n\n    .dataframe thead th {\n        text-align: right;\n    }\n</style>\n<table border=\"1\" class=\"dataframe\">\n  <thead>\n    <tr style=\"text-align: right;\">\n      <th></th>\n      <th>IdAluno</th>\n      <th>DataOcorrencia</th>\n      <th>IdTurma</th>\n      <th>IdSituacaoAlunoTurma</th>\n      <th>IdFaseNotaInicial</th>\n      <th>IdUsuario</th>\n    </tr>\n  </thead>\n  <tbody>\n    <tr>\n      <th>0</th>\n      <td>1</td>\n      <td>2022-02-14 14:21:16.343000</td>\n      <td>275</td>\n      <td>1.0</td>\n      <td>NaN</td>\n      <td>299</td>\n    </tr>\n    <tr>\n      <th>1</th>\n      <td>1</td>\n      <td>2022-02-21 17:14:02.880000</td>\n      <td>275</td>\n      <td>NaN</td>\n      <td>NaN</td>\n      <td>299</td>\n    </tr>\n    <tr>\n      <th>2</th>\n      <td>2</td>\n      <td>2020-06-23 09:23:28.770000</td>\n      <td>35</td>\n      <td>1.0</td>\n      <td>NaN</td>\n      <td>11</td>\n    </tr>\n    <tr>\n      <th>3</th>\n      <td>2</td>\n      <td>2021-07-21 16:57:05.170000</td>\n      <td>53</td>\n      <td>1.0</td>\n      <td>NaN</td>\n      <td>13</td>\n    </tr>\n    <tr>\n      <th>4</th>\n      <td>2</td>\n      <td>2021-07-22 16:33:40.257000</td>\n      <td>53</td>\n      <td>9.0</td>\n      <td>NaN</td>\n      <td>13</td>\n    </tr>\n    <tr>\n      <th>...</th>\n      <td>...</td>\n      <td>...</td>\n      <td>...</td>\n      <td>...</td>\n      <td>...</td>\n      <td>...</td>\n    </tr>\n    <tr>\n      <th>24063</th>\n      <td>2259</td>\n      <td>2024-06-27 15:12:47.553000</td>\n      <td>715</td>\n      <td>5.0</td>\n      <td>NaN</td>\n      <td>313</td>\n    </tr>\n    <tr>\n      <th>24064</th>\n      <td>2260</td>\n      <td>2024-06-27 16:35:01.807000</td>\n      <td>661</td>\n      <td>5.0</td>\n      <td>NaN</td>\n      <td>313</td>\n    </tr>\n    <tr>\n      <th>24065</th>\n      <td>2260</td>\n      <td>2024-06-27 16:35:30.767000</td>\n      <td>683</td>\n      <td>5.0</td>\n      <td>NaN</td>\n      <td>313</td>\n    </tr>\n    <tr>\n      <th>24066</th>\n      <td>2261</td>\n      <td>2024-06-27 17:09:24.367000</td>\n      <td>619</td>\n      <td>5.0</td>\n      <td>NaN</td>\n      <td>313</td>\n    </tr>\n    <tr>\n      <th>24067</th>\n      <td>2262</td>\n      <td>2024-06-27 17:51:59.763000</td>\n      <td>616</td>\n      <td>5.0</td>\n      <td>NaN</td>\n      <td>313</td>\n    </tr>\n  </tbody>\n</table>\n<p>24068 rows × 6 columns</p>\n</div>"
     },
     "execution_count": 43,
     "metadata": {},
     "output_type": "execute_result"
    }
   ],
   "source": [
    "df_historico_turma_raw = pd.read_csv('csv_output/Tabelas/TbAluno/Originais anonimizados/TbAlunoTurmaHistorico.csv')\n",
    "df_historico_turma_raw"
   ],
   "metadata": {
    "collapsed": false,
    "ExecuteTime": {
     "end_time": "2024-08-04T15:57:29.381633Z",
     "start_time": "2024-08-04T15:57:29.365231Z"
    }
   },
   "id": "a62a85b046f3946",
   "execution_count": 43
  },
  {
   "cell_type": "code",
   "outputs": [
    {
     "data": {
      "text/plain": "       IdAluno              DataOcorrencia  IdTurma  IdSituacaoAlunoTurma\n0            1  2022-02-14 14:21:16.343000      275                   1.0\n2            2  2020-06-23 09:23:28.770000       35                   1.0\n3            2  2021-07-21 16:57:05.170000       53                   1.0\n4            2  2021-07-22 16:33:40.257000       53                   9.0\n5            2  2021-07-23 10:46:15.973000       53                   1.0\n...        ...                         ...      ...                   ...\n24063     2259  2024-06-27 15:12:47.553000      715                   5.0\n24064     2260  2024-06-27 16:35:01.807000      661                   5.0\n24065     2260  2024-06-27 16:35:30.767000      683                   5.0\n24066     2261  2024-06-27 17:09:24.367000      619                   5.0\n24067     2262  2024-06-27 17:51:59.763000      616                   5.0\n\n[20896 rows x 4 columns]",
      "text/html": "<div>\n<style scoped>\n    .dataframe tbody tr th:only-of-type {\n        vertical-align: middle;\n    }\n\n    .dataframe tbody tr th {\n        vertical-align: top;\n    }\n\n    .dataframe thead th {\n        text-align: right;\n    }\n</style>\n<table border=\"1\" class=\"dataframe\">\n  <thead>\n    <tr style=\"text-align: right;\">\n      <th></th>\n      <th>IdAluno</th>\n      <th>DataOcorrencia</th>\n      <th>IdTurma</th>\n      <th>IdSituacaoAlunoTurma</th>\n    </tr>\n  </thead>\n  <tbody>\n    <tr>\n      <th>0</th>\n      <td>1</td>\n      <td>2022-02-14 14:21:16.343000</td>\n      <td>275</td>\n      <td>1.0</td>\n    </tr>\n    <tr>\n      <th>2</th>\n      <td>2</td>\n      <td>2020-06-23 09:23:28.770000</td>\n      <td>35</td>\n      <td>1.0</td>\n    </tr>\n    <tr>\n      <th>3</th>\n      <td>2</td>\n      <td>2021-07-21 16:57:05.170000</td>\n      <td>53</td>\n      <td>1.0</td>\n    </tr>\n    <tr>\n      <th>4</th>\n      <td>2</td>\n      <td>2021-07-22 16:33:40.257000</td>\n      <td>53</td>\n      <td>9.0</td>\n    </tr>\n    <tr>\n      <th>5</th>\n      <td>2</td>\n      <td>2021-07-23 10:46:15.973000</td>\n      <td>53</td>\n      <td>1.0</td>\n    </tr>\n    <tr>\n      <th>...</th>\n      <td>...</td>\n      <td>...</td>\n      <td>...</td>\n      <td>...</td>\n    </tr>\n    <tr>\n      <th>24063</th>\n      <td>2259</td>\n      <td>2024-06-27 15:12:47.553000</td>\n      <td>715</td>\n      <td>5.0</td>\n    </tr>\n    <tr>\n      <th>24064</th>\n      <td>2260</td>\n      <td>2024-06-27 16:35:01.807000</td>\n      <td>661</td>\n      <td>5.0</td>\n    </tr>\n    <tr>\n      <th>24065</th>\n      <td>2260</td>\n      <td>2024-06-27 16:35:30.767000</td>\n      <td>683</td>\n      <td>5.0</td>\n    </tr>\n    <tr>\n      <th>24066</th>\n      <td>2261</td>\n      <td>2024-06-27 17:09:24.367000</td>\n      <td>619</td>\n      <td>5.0</td>\n    </tr>\n    <tr>\n      <th>24067</th>\n      <td>2262</td>\n      <td>2024-06-27 17:51:59.763000</td>\n      <td>616</td>\n      <td>5.0</td>\n    </tr>\n  </tbody>\n</table>\n<p>20896 rows × 4 columns</p>\n</div>"
     },
     "execution_count": 51,
     "metadata": {},
     "output_type": "execute_result"
    }
   ],
   "source": [
    "df_historico_turma_raw = df_historico_turma_raw[['IdAluno', 'DataOcorrencia', 'IdTurma', 'IdSituacaoAlunoTurma']]\n",
    "df_historico_turma_raw.dropna(inplace=True)\n",
    "df_historico_turma_raw"
   ],
   "metadata": {
    "collapsed": false,
    "ExecuteTime": {
     "end_time": "2024-08-04T15:59:30.836802Z",
     "start_time": "2024-08-04T15:59:30.830543Z"
    }
   },
   "id": "e359ca47a22a867",
   "execution_count": 51
  },
  {
   "cell_type": "code",
   "outputs": [
    {
     "data": {
      "text/plain": "   IdSituacaoAlunoTurma  count\n0                   1.0  12311\n3                   9.0   5536\n6                  14.0   1574\n2                   5.0   1085\n8                  19.0    277\n5                  12.0     71\n9                  22.0     27\n4                  10.0     12\n1                   4.0      2\n7                  16.0      1",
      "text/html": "<div>\n<style scoped>\n    .dataframe tbody tr th:only-of-type {\n        vertical-align: middle;\n    }\n\n    .dataframe tbody tr th {\n        vertical-align: top;\n    }\n\n    .dataframe thead th {\n        text-align: right;\n    }\n</style>\n<table border=\"1\" class=\"dataframe\">\n  <thead>\n    <tr style=\"text-align: right;\">\n      <th></th>\n      <th>IdSituacaoAlunoTurma</th>\n      <th>count</th>\n    </tr>\n  </thead>\n  <tbody>\n    <tr>\n      <th>0</th>\n      <td>1.0</td>\n      <td>12311</td>\n    </tr>\n    <tr>\n      <th>3</th>\n      <td>9.0</td>\n      <td>5536</td>\n    </tr>\n    <tr>\n      <th>6</th>\n      <td>14.0</td>\n      <td>1574</td>\n    </tr>\n    <tr>\n      <th>2</th>\n      <td>5.0</td>\n      <td>1085</td>\n    </tr>\n    <tr>\n      <th>8</th>\n      <td>19.0</td>\n      <td>277</td>\n    </tr>\n    <tr>\n      <th>5</th>\n      <td>12.0</td>\n      <td>71</td>\n    </tr>\n    <tr>\n      <th>9</th>\n      <td>22.0</td>\n      <td>27</td>\n    </tr>\n    <tr>\n      <th>4</th>\n      <td>10.0</td>\n      <td>12</td>\n    </tr>\n    <tr>\n      <th>1</th>\n      <td>4.0</td>\n      <td>2</td>\n    </tr>\n    <tr>\n      <th>7</th>\n      <td>16.0</td>\n      <td>1</td>\n    </tr>\n  </tbody>\n</table>\n</div>"
     },
     "execution_count": 52,
     "metadata": {},
     "output_type": "execute_result"
    }
   ],
   "source": [
    "df_historico_turma_raw.groupby(['IdSituacaoAlunoTurma']).size().reset_index(name='count').sort_values(by='count', ascending=False)"
   ],
   "metadata": {
    "collapsed": false,
    "ExecuteTime": {
     "end_time": "2024-08-04T15:59:45.609978Z",
     "start_time": "2024-08-04T15:59:45.605379Z"
    }
   },
   "id": "b3429d81cc2a6f35",
   "execution_count": 52
  },
  {
   "cell_type": "markdown",
   "source": [
    "#### Situação:\n",
    "- 1: Cursando\n",
    "- 9: Passou de ano, troca de fase anual\n",
    "- 14: Desistente"
   ],
   "metadata": {
    "collapsed": false
   },
   "id": "b7f746c40cd67aaf"
  },
  {
   "cell_type": "code",
   "outputs": [
    {
     "data": {
      "text/plain": "       IdAluno              DataOcorrencia  IdTurma  IdSituacaoAlunoTurma\n0            1  2022-02-14 14:21:16.343000      275                   1.0\n1            2  2020-06-23 09:23:28.770000       35                   1.0\n2            2  2021-07-21 16:57:05.170000       53                   1.0\n3            2  2021-07-22 16:33:40.257000       53                   9.0\n4            2  2021-07-23 10:46:15.973000       53                   1.0\n...        ...                         ...      ...                   ...\n20891     2259  2024-06-27 15:12:47.553000      715                   5.0\n20892     2260  2024-06-27 16:35:01.807000      661                   5.0\n20893     2260  2024-06-27 16:35:30.767000      683                   5.0\n20894     2261  2024-06-27 17:09:24.367000      619                   5.0\n20895     2262  2024-06-27 17:51:59.763000      616                   5.0\n\n[20896 rows x 4 columns]",
      "text/html": "<div>\n<style scoped>\n    .dataframe tbody tr th:only-of-type {\n        vertical-align: middle;\n    }\n\n    .dataframe tbody tr th {\n        vertical-align: top;\n    }\n\n    .dataframe thead th {\n        text-align: right;\n    }\n</style>\n<table border=\"1\" class=\"dataframe\">\n  <thead>\n    <tr style=\"text-align: right;\">\n      <th></th>\n      <th>IdAluno</th>\n      <th>DataOcorrencia</th>\n      <th>IdTurma</th>\n      <th>IdSituacaoAlunoTurma</th>\n    </tr>\n  </thead>\n  <tbody>\n    <tr>\n      <th>0</th>\n      <td>1</td>\n      <td>2022-02-14 14:21:16.343000</td>\n      <td>275</td>\n      <td>1.0</td>\n    </tr>\n    <tr>\n      <th>1</th>\n      <td>2</td>\n      <td>2020-06-23 09:23:28.770000</td>\n      <td>35</td>\n      <td>1.0</td>\n    </tr>\n    <tr>\n      <th>2</th>\n      <td>2</td>\n      <td>2021-07-21 16:57:05.170000</td>\n      <td>53</td>\n      <td>1.0</td>\n    </tr>\n    <tr>\n      <th>3</th>\n      <td>2</td>\n      <td>2021-07-22 16:33:40.257000</td>\n      <td>53</td>\n      <td>9.0</td>\n    </tr>\n    <tr>\n      <th>4</th>\n      <td>2</td>\n      <td>2021-07-23 10:46:15.973000</td>\n      <td>53</td>\n      <td>1.0</td>\n    </tr>\n    <tr>\n      <th>...</th>\n      <td>...</td>\n      <td>...</td>\n      <td>...</td>\n      <td>...</td>\n    </tr>\n    <tr>\n      <th>20891</th>\n      <td>2259</td>\n      <td>2024-06-27 15:12:47.553000</td>\n      <td>715</td>\n      <td>5.0</td>\n    </tr>\n    <tr>\n      <th>20892</th>\n      <td>2260</td>\n      <td>2024-06-27 16:35:01.807000</td>\n      <td>661</td>\n      <td>5.0</td>\n    </tr>\n    <tr>\n      <th>20893</th>\n      <td>2260</td>\n      <td>2024-06-27 16:35:30.767000</td>\n      <td>683</td>\n      <td>5.0</td>\n    </tr>\n    <tr>\n      <th>20894</th>\n      <td>2261</td>\n      <td>2024-06-27 17:09:24.367000</td>\n      <td>619</td>\n      <td>5.0</td>\n    </tr>\n    <tr>\n      <th>20895</th>\n      <td>2262</td>\n      <td>2024-06-27 17:51:59.763000</td>\n      <td>616</td>\n      <td>5.0</td>\n    </tr>\n  </tbody>\n</table>\n<p>20896 rows × 4 columns</p>\n</div>"
     },
     "execution_count": 122,
     "metadata": {},
     "output_type": "execute_result"
    }
   ],
   "source": [
    "df_historico_turma_raw.groupby(['IdAluno', 'IdSituacaoAlunoTurma']).size().reset_index(name='count').sort_values(by='count', ascending=False)\n",
    "df_historico_turma_raw.reset_index(drop=True, inplace=True)\n",
    "# df_historico_aluno = df_historico_turma_raw[['IdAluno', 'IdSituacaoAlunoTurma']].dropna()\n",
    "# df_historico_aluno\n",
    "\n",
    "df_historico_turma_raw"
   ],
   "metadata": {
    "collapsed": false,
    "ExecuteTime": {
     "end_time": "2024-08-04T17:27:26.928739Z",
     "start_time": "2024-08-04T17:27:26.922278Z"
    }
   },
   "id": "7abc9b5fb9c650dc",
   "execution_count": 122
  },
  {
   "cell_type": "code",
   "outputs": [
    {
     "name": "stdout",
     "output_type": "stream",
     "text": [
      "<class 'pandas.core.frame.DataFrame'>\n",
      "Index: 20896 entries, 0 to 24067\n",
      "Data columns (total 4 columns):\n",
      " #   Column                Non-Null Count  Dtype  \n",
      "---  ------                --------------  -----  \n",
      " 0   IdAluno               20896 non-null  int64  \n",
      " 1   DataOcorrencia        20896 non-null  object \n",
      " 2   IdTurma               20896 non-null  int64  \n",
      " 3   IdSituacaoAlunoTurma  20896 non-null  float64\n",
      "dtypes: float64(1), int64(2), object(1)\n",
      "memory usage: 816.2+ KB\n"
     ]
    }
   ],
   "source": [
    "df_historico_turma_raw.info()"
   ],
   "metadata": {
    "collapsed": false,
    "ExecuteTime": {
     "end_time": "2024-08-04T17:23:47.245998Z",
     "start_time": "2024-08-04T17:23:47.241465Z"
    }
   },
   "id": "da97abdf90945278",
   "execution_count": 115
  },
  {
   "cell_type": "code",
   "outputs": [],
   "source": [
    "id_aluno_ref = 387"
   ],
   "metadata": {
    "collapsed": false,
    "ExecuteTime": {
     "end_time": "2024-08-04T16:21:14.943353Z",
     "start_time": "2024-08-04T16:21:14.941486Z"
    }
   },
   "id": "202c43c45098dc8c",
   "execution_count": 81
  },
  {
   "cell_type": "code",
   "outputs": [
    {
     "data": {
      "text/plain": "  SituacaoAtual  count\n1             C     14\n0             A      2",
      "text/html": "<div>\n<style scoped>\n    .dataframe tbody tr th:only-of-type {\n        vertical-align: middle;\n    }\n\n    .dataframe tbody tr th {\n        vertical-align: top;\n    }\n\n    .dataframe thead th {\n        text-align: right;\n    }\n</style>\n<table border=\"1\" class=\"dataframe\">\n  <thead>\n    <tr style=\"text-align: right;\">\n      <th></th>\n      <th>SituacaoAtual</th>\n      <th>count</th>\n    </tr>\n  </thead>\n  <tbody>\n    <tr>\n      <th>1</th>\n      <td>C</td>\n      <td>14</td>\n    </tr>\n    <tr>\n      <th>0</th>\n      <td>A</td>\n      <td>2</td>\n    </tr>\n  </tbody>\n</table>\n</div>"
     },
     "execution_count": 82,
     "metadata": {},
     "output_type": "execute_result"
    }
   ],
   "source": [
    "df_situacao_turma = pd.read_csv('csv_output/Tabelas/TbSituacaoAlunoDisciplina/Originais anonimizados/TbSituacaoAlunoDisciplina.csv')\n",
    "df_situacao_turma[['IdAluno', 'IdDisciplina', 'IdTurma', 'IdSituacaoAlunoDisciplina']].dropna()\n",
    "## search by 'IdAluno' == id_aluno_ref] and 'IdSituacaoAlunoDisciplina' == 1\n",
    "df_situacao_turma.loc[df_situacao_turma['IdAluno'] == id_aluno_ref].groupby('SituacaoAtual').size().reset_index(name='count').sort_values(by='count', ascending=False)"
   ],
   "metadata": {
    "collapsed": false,
    "ExecuteTime": {
     "end_time": "2024-08-04T16:21:15.618228Z",
     "start_time": "2024-08-04T16:21:15.598314Z"
    }
   },
   "id": "2289e562a2d6b454",
   "execution_count": 82
  },
  {
   "cell_type": "code",
   "outputs": [
    {
     "data": {
      "text/plain": "        IdDiarioFrequencia  IdDiarioAula  IdAluno StPresencaFalta\n0                        1             6      384               P\n1                        2             6      385               P\n2                        3             6      386               P\n3                        4             6      387               P\n4                        5             6      388               P\n...                    ...           ...      ...             ...\n313155              318331         25336      866               P\n313156              318332         25336     1049               P\n313157              318333         25336      609               P\n313158              318334         25336     1183               P\n313159              318335         25336     1249               P\n\n[313160 rows x 4 columns]",
      "text/html": "<div>\n<style scoped>\n    .dataframe tbody tr th:only-of-type {\n        vertical-align: middle;\n    }\n\n    .dataframe tbody tr th {\n        vertical-align: top;\n    }\n\n    .dataframe thead th {\n        text-align: right;\n    }\n</style>\n<table border=\"1\" class=\"dataframe\">\n  <thead>\n    <tr style=\"text-align: right;\">\n      <th></th>\n      <th>IdDiarioFrequencia</th>\n      <th>IdDiarioAula</th>\n      <th>IdAluno</th>\n      <th>StPresencaFalta</th>\n    </tr>\n  </thead>\n  <tbody>\n    <tr>\n      <th>0</th>\n      <td>1</td>\n      <td>6</td>\n      <td>384</td>\n      <td>P</td>\n    </tr>\n    <tr>\n      <th>1</th>\n      <td>2</td>\n      <td>6</td>\n      <td>385</td>\n      <td>P</td>\n    </tr>\n    <tr>\n      <th>2</th>\n      <td>3</td>\n      <td>6</td>\n      <td>386</td>\n      <td>P</td>\n    </tr>\n    <tr>\n      <th>3</th>\n      <td>4</td>\n      <td>6</td>\n      <td>387</td>\n      <td>P</td>\n    </tr>\n    <tr>\n      <th>4</th>\n      <td>5</td>\n      <td>6</td>\n      <td>388</td>\n      <td>P</td>\n    </tr>\n    <tr>\n      <th>...</th>\n      <td>...</td>\n      <td>...</td>\n      <td>...</td>\n      <td>...</td>\n    </tr>\n    <tr>\n      <th>313155</th>\n      <td>318331</td>\n      <td>25336</td>\n      <td>866</td>\n      <td>P</td>\n    </tr>\n    <tr>\n      <th>313156</th>\n      <td>318332</td>\n      <td>25336</td>\n      <td>1049</td>\n      <td>P</td>\n    </tr>\n    <tr>\n      <th>313157</th>\n      <td>318333</td>\n      <td>25336</td>\n      <td>609</td>\n      <td>P</td>\n    </tr>\n    <tr>\n      <th>313158</th>\n      <td>318334</td>\n      <td>25336</td>\n      <td>1183</td>\n      <td>P</td>\n    </tr>\n    <tr>\n      <th>313159</th>\n      <td>318335</td>\n      <td>25336</td>\n      <td>1249</td>\n      <td>P</td>\n    </tr>\n  </tbody>\n</table>\n<p>313160 rows × 4 columns</p>\n</div>"
     },
     "execution_count": 83,
     "metadata": {},
     "output_type": "execute_result"
    }
   ],
   "source": [
    "df_diario_frequencia = pd.read_csv('csv_output/Tabelas/TbDiario/Merge/TbDiarioFrequencia.csv')\n",
    "df_diario_frequencia"
   ],
   "metadata": {
    "collapsed": false,
    "ExecuteTime": {
     "end_time": "2024-08-04T16:22:55.918514Z",
     "start_time": "2024-08-04T16:22:55.866205Z"
    }
   },
   "id": "fbee8ef7a56d385d",
   "execution_count": 83
  },
  {
   "cell_type": "code",
   "outputs": [
    {
     "data": {
      "text/plain": "(313160, 4)"
     },
     "execution_count": 8,
     "metadata": {},
     "output_type": "execute_result"
    }
   ],
   "source": [
    "df_diario_frequencia.shape"
   ],
   "metadata": {
    "collapsed": false,
    "ExecuteTime": {
     "end_time": "2024-08-04T15:01:27.703798Z",
     "start_time": "2024-08-04T15:01:27.701366Z"
    }
   },
   "id": "a567d215c4e9638a",
   "execution_count": 8
  },
  {
   "cell_type": "code",
   "outputs": [
    {
     "data": {
      "text/plain": "  StPresencaFalta  count\n2               P   2112\n0               F   2034\n1               J   1020",
      "text/html": "<div>\n<style scoped>\n    .dataframe tbody tr th:only-of-type {\n        vertical-align: middle;\n    }\n\n    .dataframe tbody tr th {\n        vertical-align: top;\n    }\n\n    .dataframe thead th {\n        text-align: right;\n    }\n</style>\n<table border=\"1\" class=\"dataframe\">\n  <thead>\n    <tr style=\"text-align: right;\">\n      <th></th>\n      <th>StPresencaFalta</th>\n      <th>count</th>\n    </tr>\n  </thead>\n  <tbody>\n    <tr>\n      <th>2</th>\n      <td>P</td>\n      <td>2112</td>\n    </tr>\n    <tr>\n      <th>0</th>\n      <td>F</td>\n      <td>2034</td>\n    </tr>\n    <tr>\n      <th>1</th>\n      <td>J</td>\n      <td>1020</td>\n    </tr>\n  </tbody>\n</table>\n</div>"
     },
     "execution_count": 94,
     "metadata": {},
     "output_type": "execute_result"
    }
   ],
   "source": [
    "df_diario_frequencia = df_diario_frequencia[['IdAluno', 'StPresencaFalta']]\n",
    "df_diario_frequencia_grouped = df_diario_frequencia.groupby(['IdAluno', 'StPresencaFalta']).size().reset_index(name='count').sort_values(by='count', ascending=False)\n",
    "\n",
    "df_diario_frequencia_grouped.groupby('StPresencaFalta').size().reset_index(name='count').sort_values(by='count', ascending=False)"
   ],
   "metadata": {
    "collapsed": false,
    "ExecuteTime": {
     "end_time": "2024-08-04T16:26:55.174450Z",
     "start_time": "2024-08-04T16:26:55.143718Z"
    }
   },
   "id": "9451b66a5d82dfae",
   "execution_count": 94
  },
  {
   "cell_type": "code",
   "outputs": [
    {
     "data": {
      "text/plain": "      IdAluno  Absences  Justified Absences  Present  Total_Absences\n0           2         0                   0        2               0\n1           3        24                   0      158              24\n2           4        70                   0       48              70\n3           5        11                   0       16              11\n4           6        27                   0        0              27\n...       ...       ...                 ...      ...             ...\n2129     2235         0                   0       15               0\n2130     2236         0                   0       14               0\n2131     2237         0                   0       12               0\n2132     2238         0                   1       11               1\n2133     2241         4                   0        8               4\n\n[2134 rows x 5 columns]",
      "text/html": "<div>\n<style scoped>\n    .dataframe tbody tr th:only-of-type {\n        vertical-align: middle;\n    }\n\n    .dataframe tbody tr th {\n        vertical-align: top;\n    }\n\n    .dataframe thead th {\n        text-align: right;\n    }\n</style>\n<table border=\"1\" class=\"dataframe\">\n  <thead>\n    <tr style=\"text-align: right;\">\n      <th></th>\n      <th>IdAluno</th>\n      <th>Absences</th>\n      <th>Justified Absences</th>\n      <th>Present</th>\n      <th>Total_Absences</th>\n    </tr>\n  </thead>\n  <tbody>\n    <tr>\n      <th>0</th>\n      <td>2</td>\n      <td>0</td>\n      <td>0</td>\n      <td>2</td>\n      <td>0</td>\n    </tr>\n    <tr>\n      <th>1</th>\n      <td>3</td>\n      <td>24</td>\n      <td>0</td>\n      <td>158</td>\n      <td>24</td>\n    </tr>\n    <tr>\n      <th>2</th>\n      <td>4</td>\n      <td>70</td>\n      <td>0</td>\n      <td>48</td>\n      <td>70</td>\n    </tr>\n    <tr>\n      <th>3</th>\n      <td>5</td>\n      <td>11</td>\n      <td>0</td>\n      <td>16</td>\n      <td>11</td>\n    </tr>\n    <tr>\n      <th>4</th>\n      <td>6</td>\n      <td>27</td>\n      <td>0</td>\n      <td>0</td>\n      <td>27</td>\n    </tr>\n    <tr>\n      <th>...</th>\n      <td>...</td>\n      <td>...</td>\n      <td>...</td>\n      <td>...</td>\n      <td>...</td>\n    </tr>\n    <tr>\n      <th>2129</th>\n      <td>2235</td>\n      <td>0</td>\n      <td>0</td>\n      <td>15</td>\n      <td>0</td>\n    </tr>\n    <tr>\n      <th>2130</th>\n      <td>2236</td>\n      <td>0</td>\n      <td>0</td>\n      <td>14</td>\n      <td>0</td>\n    </tr>\n    <tr>\n      <th>2131</th>\n      <td>2237</td>\n      <td>0</td>\n      <td>0</td>\n      <td>12</td>\n      <td>0</td>\n    </tr>\n    <tr>\n      <th>2132</th>\n      <td>2238</td>\n      <td>0</td>\n      <td>1</td>\n      <td>11</td>\n      <td>1</td>\n    </tr>\n    <tr>\n      <th>2133</th>\n      <td>2241</td>\n      <td>4</td>\n      <td>0</td>\n      <td>8</td>\n      <td>4</td>\n    </tr>\n  </tbody>\n</table>\n<p>2134 rows × 5 columns</p>\n</div>"
     },
     "execution_count": 113,
     "metadata": {},
     "output_type": "execute_result"
    }
   ],
   "source": [
    "# Assuming df is your DataFrame\n",
    "pivot_df = df_diario_frequencia_grouped.pivot_table(index='IdAluno', columns='StPresencaFalta', values='count', aggfunc='sum', fill_value=0)\n",
    "\n",
    "# Rename columns using the rename method\n",
    "pivot_df = pivot_df.rename(columns={'F': 'Absences', 'P': 'Present', 'J': 'Justified Absences'})\n",
    "\n",
    "# If 'F' and 'J' are already renamed, you can skip renaming and directly sum them\n",
    "pivot_df['Total_Absences'] = pivot_df['Absences'] + pivot_df['Justified Absences']\n",
    "\n",
    "# Rename columns if needed\n",
    "pivot_df.columns.name = None  # Removes the 'StPresencaFalta' from being part of the columns\n",
    "\n",
    "pivot_df = pivot_df.reset_index()  # Resets the index to make 'IdAluno' a column\n",
    "pivot_df"
   ],
   "metadata": {
    "collapsed": false,
    "ExecuteTime": {
     "end_time": "2024-08-04T17:23:09.570916Z",
     "start_time": "2024-08-04T17:23:09.563791Z"
    }
   },
   "id": "6d9dc1ac2520f477",
   "execution_count": 113
  },
  {
   "cell_type": "code",
   "outputs": [
    {
     "data": {
      "text/plain": "      IdAluno  Present  Total_Absences\n0           2        2               0\n1           3      158              24\n2           4       48              70\n3           5       16              11\n4           6        0              27\n...       ...      ...             ...\n2129     2235       15               0\n2130     2236       14               0\n2131     2237       12               0\n2132     2238       11               1\n2133     2241        8               4\n\n[2134 rows x 3 columns]",
      "text/html": "<div>\n<style scoped>\n    .dataframe tbody tr th:only-of-type {\n        vertical-align: middle;\n    }\n\n    .dataframe tbody tr th {\n        vertical-align: top;\n    }\n\n    .dataframe thead th {\n        text-align: right;\n    }\n</style>\n<table border=\"1\" class=\"dataframe\">\n  <thead>\n    <tr style=\"text-align: right;\">\n      <th></th>\n      <th>IdAluno</th>\n      <th>Present</th>\n      <th>Total_Absences</th>\n    </tr>\n  </thead>\n  <tbody>\n    <tr>\n      <th>0</th>\n      <td>2</td>\n      <td>2</td>\n      <td>0</td>\n    </tr>\n    <tr>\n      <th>1</th>\n      <td>3</td>\n      <td>158</td>\n      <td>24</td>\n    </tr>\n    <tr>\n      <th>2</th>\n      <td>4</td>\n      <td>48</td>\n      <td>70</td>\n    </tr>\n    <tr>\n      <th>3</th>\n      <td>5</td>\n      <td>16</td>\n      <td>11</td>\n    </tr>\n    <tr>\n      <th>4</th>\n      <td>6</td>\n      <td>0</td>\n      <td>27</td>\n    </tr>\n    <tr>\n      <th>...</th>\n      <td>...</td>\n      <td>...</td>\n      <td>...</td>\n    </tr>\n    <tr>\n      <th>2129</th>\n      <td>2235</td>\n      <td>15</td>\n      <td>0</td>\n    </tr>\n    <tr>\n      <th>2130</th>\n      <td>2236</td>\n      <td>14</td>\n      <td>0</td>\n    </tr>\n    <tr>\n      <th>2131</th>\n      <td>2237</td>\n      <td>12</td>\n      <td>0</td>\n    </tr>\n    <tr>\n      <th>2132</th>\n      <td>2238</td>\n      <td>11</td>\n      <td>1</td>\n    </tr>\n    <tr>\n      <th>2133</th>\n      <td>2241</td>\n      <td>8</td>\n      <td>4</td>\n    </tr>\n  </tbody>\n</table>\n<p>2134 rows × 3 columns</p>\n</div>"
     },
     "execution_count": 114,
     "metadata": {},
     "output_type": "execute_result"
    }
   ],
   "source": [
    "pivot_df = pivot_df[['IdAluno', 'Present', 'Total_Absences']]  # Reorders the columns\n",
    "pivot_df"
   ],
   "metadata": {
    "collapsed": false,
    "ExecuteTime": {
     "end_time": "2024-08-04T17:23:10.844993Z",
     "start_time": "2024-08-04T17:23:10.841130Z"
    }
   },
   "id": "77b47c50196dbb4b",
   "execution_count": 114
  },
  {
   "cell_type": "code",
   "outputs": [
    {
     "name": "stdout",
     "output_type": "stream",
     "text": [
      "<class 'pandas.core.frame.DataFrame'>\n",
      "RangeIndex: 20735 entries, 0 to 20734\n",
      "Data columns (total 6 columns):\n",
      " #   Column                Non-Null Count  Dtype  \n",
      "---  ------                --------------  -----  \n",
      " 0   IdAluno               20735 non-null  int64  \n",
      " 1   Present               20735 non-null  int64  \n",
      " 2   Total_Absences        20735 non-null  int64  \n",
      " 3   DataOcorrencia        20735 non-null  object \n",
      " 4   IdTurma               20735 non-null  int64  \n",
      " 5   IdSituacaoAlunoTurma  20735 non-null  float64\n",
      "dtypes: float64(1), int64(4), object(1)\n",
      "memory usage: 972.1+ KB\n"
     ]
    }
   ],
   "source": [
    "# Merge the two DataFrames on the 'IdAluno' column\n",
    "merged_df = pd.merge(pivot_df, df_historico_turma_raw, on='IdAluno', how='inner')\n",
    "\n",
    "# Inspect the merged DataFrame\n",
    "merged_df.info()"
   ],
   "metadata": {
    "collapsed": false,
    "ExecuteTime": {
     "end_time": "2024-08-04T17:24:39.520373Z",
     "start_time": "2024-08-04T17:24:39.512874Z"
    }
   },
   "id": "84120844505a5781",
   "execution_count": 116
  },
  {
   "cell_type": "code",
   "outputs": [
    {
     "data": {
      "text/plain": "       IdAluno  Present  Total_Absences              DataOcorrencia  IdTurma  \\\n0            2        2               0  2020-06-23 09:23:28.770000       35   \n1            2        2               0  2021-07-21 16:57:05.170000       53   \n2            2        2               0  2021-07-22 16:33:40.257000       53   \n3            2        2               0  2021-07-23 10:46:15.973000       53   \n4            2        2               0  2021-07-23 10:58:42.890000       53   \n...        ...      ...             ...                         ...      ...   \n20730     2237       12               0  2024-05-31 12:07:15.673000      665   \n20731     2238       11               1  2024-05-24 18:20:11.047000      668   \n20732     2238       11               1  2024-05-29 09:46:47.400000      668   \n20733     2241        8               4  2024-05-27 14:38:09.983000      699   \n20734     2241        8               4  2024-05-29 16:19:37.277000      699   \n\n       IdSituacaoAlunoTurma  \n0                       1.0  \n1                       1.0  \n2                       9.0  \n3                       1.0  \n4                       9.0  \n...                     ...  \n20730                   1.0  \n20731                   5.0  \n20732                   1.0  \n20733                   5.0  \n20734                   1.0  \n\n[20735 rows x 6 columns]",
      "text/html": "<div>\n<style scoped>\n    .dataframe tbody tr th:only-of-type {\n        vertical-align: middle;\n    }\n\n    .dataframe tbody tr th {\n        vertical-align: top;\n    }\n\n    .dataframe thead th {\n        text-align: right;\n    }\n</style>\n<table border=\"1\" class=\"dataframe\">\n  <thead>\n    <tr style=\"text-align: right;\">\n      <th></th>\n      <th>IdAluno</th>\n      <th>Present</th>\n      <th>Total_Absences</th>\n      <th>DataOcorrencia</th>\n      <th>IdTurma</th>\n      <th>IdSituacaoAlunoTurma</th>\n    </tr>\n  </thead>\n  <tbody>\n    <tr>\n      <th>0</th>\n      <td>2</td>\n      <td>2</td>\n      <td>0</td>\n      <td>2020-06-23 09:23:28.770000</td>\n      <td>35</td>\n      <td>1.0</td>\n    </tr>\n    <tr>\n      <th>1</th>\n      <td>2</td>\n      <td>2</td>\n      <td>0</td>\n      <td>2021-07-21 16:57:05.170000</td>\n      <td>53</td>\n      <td>1.0</td>\n    </tr>\n    <tr>\n      <th>2</th>\n      <td>2</td>\n      <td>2</td>\n      <td>0</td>\n      <td>2021-07-22 16:33:40.257000</td>\n      <td>53</td>\n      <td>9.0</td>\n    </tr>\n    <tr>\n      <th>3</th>\n      <td>2</td>\n      <td>2</td>\n      <td>0</td>\n      <td>2021-07-23 10:46:15.973000</td>\n      <td>53</td>\n      <td>1.0</td>\n    </tr>\n    <tr>\n      <th>4</th>\n      <td>2</td>\n      <td>2</td>\n      <td>0</td>\n      <td>2021-07-23 10:58:42.890000</td>\n      <td>53</td>\n      <td>9.0</td>\n    </tr>\n    <tr>\n      <th>...</th>\n      <td>...</td>\n      <td>...</td>\n      <td>...</td>\n      <td>...</td>\n      <td>...</td>\n      <td>...</td>\n    </tr>\n    <tr>\n      <th>20730</th>\n      <td>2237</td>\n      <td>12</td>\n      <td>0</td>\n      <td>2024-05-31 12:07:15.673000</td>\n      <td>665</td>\n      <td>1.0</td>\n    </tr>\n    <tr>\n      <th>20731</th>\n      <td>2238</td>\n      <td>11</td>\n      <td>1</td>\n      <td>2024-05-24 18:20:11.047000</td>\n      <td>668</td>\n      <td>5.0</td>\n    </tr>\n    <tr>\n      <th>20732</th>\n      <td>2238</td>\n      <td>11</td>\n      <td>1</td>\n      <td>2024-05-29 09:46:47.400000</td>\n      <td>668</td>\n      <td>1.0</td>\n    </tr>\n    <tr>\n      <th>20733</th>\n      <td>2241</td>\n      <td>8</td>\n      <td>4</td>\n      <td>2024-05-27 14:38:09.983000</td>\n      <td>699</td>\n      <td>5.0</td>\n    </tr>\n    <tr>\n      <th>20734</th>\n      <td>2241</td>\n      <td>8</td>\n      <td>4</td>\n      <td>2024-05-29 16:19:37.277000</td>\n      <td>699</td>\n      <td>1.0</td>\n    </tr>\n  </tbody>\n</table>\n<p>20735 rows × 6 columns</p>\n</div>"
     },
     "execution_count": 117,
     "metadata": {},
     "output_type": "execute_result"
    }
   ],
   "source": [
    "merged_df"
   ],
   "metadata": {
    "collapsed": false,
    "ExecuteTime": {
     "end_time": "2024-08-04T17:24:44.729968Z",
     "start_time": "2024-08-04T17:24:44.725567Z"
    }
   },
   "id": "83d8de78240402ce",
   "execution_count": 117
  },
  {
   "cell_type": "code",
   "outputs": [],
   "source": [],
   "metadata": {
    "collapsed": false
   },
   "id": "6d0da44ffbbfc25f"
  }
 ],
 "metadata": {
  "kernelspec": {
   "display_name": "Python 3",
   "language": "python",
   "name": "python3"
  },
  "language_info": {
   "codemirror_mode": {
    "name": "ipython",
    "version": 2
   },
   "file_extension": ".py",
   "mimetype": "text/x-python",
   "name": "python",
   "nbconvert_exporter": "python",
   "pygments_lexer": "ipython2",
   "version": "2.7.6"
  }
 },
 "nbformat": 4,
 "nbformat_minor": 5
}
