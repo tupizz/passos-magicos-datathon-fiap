{
 "cells": [
  {
   "cell_type": "code",
   "execution_count": 6,
   "id": "initial_id",
   "metadata": {
    "collapsed": true,
    "ExecuteTime": {
     "end_time": "2024-08-04T21:02:53.966795Z",
     "start_time": "2024-08-04T21:02:52.007757Z"
    }
   },
   "outputs": [
    {
     "name": "stderr",
     "output_type": "stream",
     "text": [
      "/var/folders/yl/kxzm_dt540l7tgjzxj_d_zj00000gn/T/ipykernel_14170/3231695069.py:16: DtypeWarning: Columns (13,14,15,16,17,27) have mixed types. Specify dtype option on import or set low_memory=False.\n",
      "  df = pd.read_csv(file_path)\n"
     ]
    },
    {
     "name": "stdout",
     "output_type": "stream",
     "text": [
      "Headers, types, and info have been written to headers_and_types_and_info.txt\n"
     ]
    }
   ],
   "source": [
    "import os\n",
    "import pandas as pd\n",
    "\n",
    "\n",
    "def extract_csv_info(directory, output_file):\n",
    "    # Create or open the output file in write mode\n",
    "    with open(output_file, 'w') as file:\n",
    "        # Walk through all subdirectories and files\n",
    "        for root, _, files in os.walk(directory):\n",
    "            for filename in files:\n",
    "                if filename.endswith('.csv'):\n",
    "                    file_path = os.path.join(root, filename)\n",
    "                    file.write(f'File: {file_path}\\n')\n",
    "                    \n",
    "                    # Read the csv file\n",
    "                    df = pd.read_csv(file_path)\n",
    "                    \n",
    "                    # Write headers and types\n",
    "                    file.write('Headers and Types:\\n')\n",
    "                    for col in df.columns:\n",
    "                        file.write(f'{col}: {df[col].dtype}\\n')\n",
    "                    \n",
    "                    # Calculate and write statistics\n",
    "                    file.write('\\nStatistics:\\n')\n",
    "                    for col in df.columns:\n",
    "                        file.write(f'Column: {col}\\n')\n",
    "                        file.write(f'  Unique: {df[col].nunique()}\\n')\n",
    "                    \n",
    "                    # Add a separator for readability\n",
    "                    file.write('\\n' + '='*50 + '\\n\\n')\n",
    "\n",
    "# Directory to search for CSV files\n",
    "directory = 'csv_output'\n",
    "\n",
    "# Output file to write the headers and types\n",
    "output_file = 'headers_and_types_and_info.txt'\n",
    "\n",
    "# Run the script\n",
    "extract_csv_info(directory, output_file)\n",
    "\n",
    "print(f\"Headers, types, and info have been written to {output_file}\")\n"
   ]
  },
  {
   "cell_type": "code",
   "outputs": [],
   "source": [],
   "metadata": {
    "collapsed": false
   },
   "id": "e298dc6de0f6318b"
  }
 ],
 "metadata": {
  "kernelspec": {
   "display_name": "Python 3",
   "language": "python",
   "name": "python3"
  },
  "language_info": {
   "codemirror_mode": {
    "name": "ipython",
    "version": 2
   },
   "file_extension": ".py",
   "mimetype": "text/x-python",
   "name": "python",
   "nbconvert_exporter": "python",
   "pygments_lexer": "ipython2",
   "version": "2.7.6"
  }
 },
 "nbformat": 4,
 "nbformat_minor": 5
}
